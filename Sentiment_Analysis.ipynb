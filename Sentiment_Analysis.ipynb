{
 "cells": [
  {
   "cell_type": "markdown",
   "metadata": {
    "id": "OLlYeFGX-q6k"
   },
   "source": [
    "# Sentiment Analysis"
   ]
  },
  {
   "cell_type": "markdown",
   "metadata": {
    "id": "vwAW6u5x-q6l"
   },
   "source": [
    "**Sentiment analysis**, also referred to as opinion mining, is an NLP approach that identifies the emotional tone behind a body of text. \n",
    "\n",
    "In this notebook, we will follow the following steps to build a sentiment analysis model: \n",
    "\n",
    "1. Data Collection\n",
    "2. Data Analysis\n",
    "3. Data pre-processing\n",
    "4. Feature Extraction\n",
    "5. Build different ML and DL models\n",
    "6. Evaluate the models\n",
    "7. Save the best model"
   ]
  },
  {
   "cell_type": "markdown",
   "metadata": {
    "id": "JqxRnh0g-q6m"
   },
   "source": [
    "## 1. Data Collection"
   ]
  },
  {
   "cell_type": "markdown",
   "metadata": {
    "id": "66HqLYOs-q6m"
   },
   "source": [
    "The dataset used in this notebook consists of sentiment around Apple: https://www.kaggle.com/datasets/seriousran/appletwittersentimenttexts\n",
    "\n",
    "**Output labels:**\n",
    "\n",
    "- -1: negative \n",
    "- 0: neutral \n",
    "- 1: positive\n"
   ]
  },
  {
   "cell_type": "markdown",
   "metadata": {
    "id": "0R-Vya2--q6m"
   },
   "source": [
    "## 2. Data Analysis"
   ]
  },
  {
   "cell_type": "markdown",
   "metadata": {
    "id": "82hq98Ni-q6m"
   },
   "source": [
    "This step is critical from the organization's perspective because analyzing the customers' opinions will give the organization a few hints. \n",
    "\n",
    "In this project, we need to find the following:\n",
    "1. The top 10 hashtags used.\n",
    "2. The number of positive and negative tweets.\n",
    "3. The top words used in the positive and negative tweets.\n",
    "\n",
    "Run the following command to install the library:\n",
    "> pip install wordcloud"
   ]
  },
  {
   "cell_type": "code",
   "execution_count": 3,
   "metadata": {
    "colab": {
     "base_uri": "https://localhost:8080/"
    },
    "id": "IRV9eqnC-q6n",
    "outputId": "d78ec33b-b029-4fd1-8d50-1d1f15a22f02"
   },
   "outputs": [
    {
     "name": "stdout",
     "output_type": "stream",
     "text": [
      "Looking in indexes: https://pypi.org/simple, https://us-python.pkg.dev/colab-wheels/public/simple/\n",
      "Requirement already satisfied: wordcloud in /usr/local/lib/python3.8/dist-packages (1.8.2.2)\n",
      "Requirement already satisfied: matplotlib in /usr/local/lib/python3.8/dist-packages (from wordcloud) (3.2.2)\n",
      "Requirement already satisfied: pillow in /usr/local/lib/python3.8/dist-packages (from wordcloud) (7.1.2)\n",
      "Requirement already satisfied: numpy>=1.6.1 in /usr/local/lib/python3.8/dist-packages (from wordcloud) (1.21.6)\n",
      "Requirement already satisfied: kiwisolver>=1.0.1 in /usr/local/lib/python3.8/dist-packages (from matplotlib->wordcloud) (1.4.4)\n",
      "Requirement already satisfied: python-dateutil>=2.1 in /usr/local/lib/python3.8/dist-packages (from matplotlib->wordcloud) (2.8.2)\n",
      "Requirement already satisfied: cycler>=0.10 in /usr/local/lib/python3.8/dist-packages (from matplotlib->wordcloud) (0.11.0)\n",
      "Requirement already satisfied: pyparsing!=2.0.4,!=2.1.2,!=2.1.6,>=2.0.1 in /usr/local/lib/python3.8/dist-packages (from matplotlib->wordcloud) (3.0.9)\n",
      "Requirement already satisfied: six>=1.5 in /usr/local/lib/python3.8/dist-packages (from python-dateutil>=2.1->matplotlib->wordcloud) (1.15.0)\n"
     ]
    }
   ],
   "source": [
    "!pip install wordcloud"
   ]
  },
  {
   "cell_type": "code",
   "execution_count": 4,
   "metadata": {
    "id": "yrGtcBQu-q6o"
   },
   "outputs": [],
   "source": [
    "import pandas as pd\n",
    "import nltk\n",
    "import re\n",
    "import matplotlib.pyplot as plt\n",
    "import numpy as np\n",
    "import seaborn as sns\n",
    "\n",
    "from nltk.corpus import stopwords\n",
    "from nltk.tokenize import sent_tokenize, word_tokenize\n",
    "from wordcloud import WordCloud\n",
    "from nltk.stem import PorterStemmer\n",
    "\n",
    "%matplotlib inline"
   ]
  },
  {
   "cell_type": "code",
   "execution_count": 5,
   "metadata": {
    "id": "rEd0c1fg-q6o"
   },
   "outputs": [],
   "source": [
    "df = pd.read_csv('apple-twitter-sentiment-texts (1).csv')"
   ]
  },
  {
   "cell_type": "code",
   "execution_count": 6,
   "metadata": {
    "colab": {
     "base_uri": "https://localhost:8080/",
     "height": 206
    },
    "id": "s-a0HDEr-q6p",
    "outputId": "6eb41cdb-b612-4c1e-d790-221755c2c087",
    "scrolled": true
   },
   "outputs": [
    {
     "data": {
      "text/html": [
       "\n",
       "  <div id=\"df-b2cb37bb-2d35-4e8d-860e-c24a0a5d0019\">\n",
       "    <div class=\"colab-df-container\">\n",
       "      <div>\n",
       "<style scoped>\n",
       "    .dataframe tbody tr th:only-of-type {\n",
       "        vertical-align: middle;\n",
       "    }\n",
       "\n",
       "    .dataframe tbody tr th {\n",
       "        vertical-align: top;\n",
       "    }\n",
       "\n",
       "    .dataframe thead th {\n",
       "        text-align: right;\n",
       "    }\n",
       "</style>\n",
       "<table border=\"1\" class=\"dataframe\">\n",
       "  <thead>\n",
       "    <tr style=\"text-align: right;\">\n",
       "      <th></th>\n",
       "      <th>text</th>\n",
       "      <th>sentiment</th>\n",
       "    </tr>\n",
       "  </thead>\n",
       "  <tbody>\n",
       "    <tr>\n",
       "      <th>0</th>\n",
       "      <td>Wow. Yall needa step it up @Apple RT @heynyla:...</td>\n",
       "      <td>-1</td>\n",
       "    </tr>\n",
       "    <tr>\n",
       "      <th>1</th>\n",
       "      <td>What Happened To Apple Inc?   http://t.co/FJEX...</td>\n",
       "      <td>0</td>\n",
       "    </tr>\n",
       "    <tr>\n",
       "      <th>2</th>\n",
       "      <td>Thank u @apple I can now compile all of the pi...</td>\n",
       "      <td>1</td>\n",
       "    </tr>\n",
       "    <tr>\n",
       "      <th>3</th>\n",
       "      <td>The oddly uplifting story of the Apple co-foun...</td>\n",
       "      <td>0</td>\n",
       "    </tr>\n",
       "    <tr>\n",
       "      <th>4</th>\n",
       "      <td>@apple can i exchange my iphone for a differen...</td>\n",
       "      <td>0</td>\n",
       "    </tr>\n",
       "  </tbody>\n",
       "</table>\n",
       "</div>\n",
       "      <button class=\"colab-df-convert\" onclick=\"convertToInteractive('df-b2cb37bb-2d35-4e8d-860e-c24a0a5d0019')\"\n",
       "              title=\"Convert this dataframe to an interactive table.\"\n",
       "              style=\"display:none;\">\n",
       "        \n",
       "  <svg xmlns=\"http://www.w3.org/2000/svg\" height=\"24px\"viewBox=\"0 0 24 24\"\n",
       "       width=\"24px\">\n",
       "    <path d=\"M0 0h24v24H0V0z\" fill=\"none\"/>\n",
       "    <path d=\"M18.56 5.44l.94 2.06.94-2.06 2.06-.94-2.06-.94-.94-2.06-.94 2.06-2.06.94zm-11 1L8.5 8.5l.94-2.06 2.06-.94-2.06-.94L8.5 2.5l-.94 2.06-2.06.94zm10 10l.94 2.06.94-2.06 2.06-.94-2.06-.94-.94-2.06-.94 2.06-2.06.94z\"/><path d=\"M17.41 7.96l-1.37-1.37c-.4-.4-.92-.59-1.43-.59-.52 0-1.04.2-1.43.59L10.3 9.45l-7.72 7.72c-.78.78-.78 2.05 0 2.83L4 21.41c.39.39.9.59 1.41.59.51 0 1.02-.2 1.41-.59l7.78-7.78 2.81-2.81c.8-.78.8-2.07 0-2.86zM5.41 20L4 18.59l7.72-7.72 1.47 1.35L5.41 20z\"/>\n",
       "  </svg>\n",
       "      </button>\n",
       "      \n",
       "  <style>\n",
       "    .colab-df-container {\n",
       "      display:flex;\n",
       "      flex-wrap:wrap;\n",
       "      gap: 12px;\n",
       "    }\n",
       "\n",
       "    .colab-df-convert {\n",
       "      background-color: #E8F0FE;\n",
       "      border: none;\n",
       "      border-radius: 50%;\n",
       "      cursor: pointer;\n",
       "      display: none;\n",
       "      fill: #1967D2;\n",
       "      height: 32px;\n",
       "      padding: 0 0 0 0;\n",
       "      width: 32px;\n",
       "    }\n",
       "\n",
       "    .colab-df-convert:hover {\n",
       "      background-color: #E2EBFA;\n",
       "      box-shadow: 0px 1px 2px rgba(60, 64, 67, 0.3), 0px 1px 3px 1px rgba(60, 64, 67, 0.15);\n",
       "      fill: #174EA6;\n",
       "    }\n",
       "\n",
       "    [theme=dark] .colab-df-convert {\n",
       "      background-color: #3B4455;\n",
       "      fill: #D2E3FC;\n",
       "    }\n",
       "\n",
       "    [theme=dark] .colab-df-convert:hover {\n",
       "      background-color: #434B5C;\n",
       "      box-shadow: 0px 1px 3px 1px rgba(0, 0, 0, 0.15);\n",
       "      filter: drop-shadow(0px 1px 2px rgba(0, 0, 0, 0.3));\n",
       "      fill: #FFFFFF;\n",
       "    }\n",
       "  </style>\n",
       "\n",
       "      <script>\n",
       "        const buttonEl =\n",
       "          document.querySelector('#df-b2cb37bb-2d35-4e8d-860e-c24a0a5d0019 button.colab-df-convert');\n",
       "        buttonEl.style.display =\n",
       "          google.colab.kernel.accessAllowed ? 'block' : 'none';\n",
       "\n",
       "        async function convertToInteractive(key) {\n",
       "          const element = document.querySelector('#df-b2cb37bb-2d35-4e8d-860e-c24a0a5d0019');\n",
       "          const dataTable =\n",
       "            await google.colab.kernel.invokeFunction('convertToInteractive',\n",
       "                                                     [key], {});\n",
       "          if (!dataTable) return;\n",
       "\n",
       "          const docLinkHtml = 'Like what you see? Visit the ' +\n",
       "            '<a target=\"_blank\" href=https://colab.research.google.com/notebooks/data_table.ipynb>data table notebook</a>'\n",
       "            + ' to learn more about interactive tables.';\n",
       "          element.innerHTML = '';\n",
       "          dataTable['output_type'] = 'display_data';\n",
       "          await google.colab.output.renderOutput(dataTable, element);\n",
       "          const docLink = document.createElement('div');\n",
       "          docLink.innerHTML = docLinkHtml;\n",
       "          element.appendChild(docLink);\n",
       "        }\n",
       "      </script>\n",
       "    </div>\n",
       "  </div>\n",
       "  "
      ],
      "text/plain": [
       "                                                text  sentiment\n",
       "0  Wow. Yall needa step it up @Apple RT @heynyla:...         -1\n",
       "1  What Happened To Apple Inc?   http://t.co/FJEX...          0\n",
       "2  Thank u @apple I can now compile all of the pi...          1\n",
       "3  The oddly uplifting story of the Apple co-foun...          0\n",
       "4  @apple can i exchange my iphone for a differen...          0"
      ]
     },
     "execution_count": 6,
     "metadata": {},
     "output_type": "execute_result"
    }
   ],
   "source": [
    "df.head()"
   ]
  },
  {
   "cell_type": "code",
   "execution_count": 7,
   "metadata": {
    "colab": {
     "base_uri": "https://localhost:8080/"
    },
    "id": "-LVSJdF9-q6p",
    "outputId": "ee165d70-706a-4752-e4fd-2a2ce61ba695"
   },
   "outputs": [
    {
     "name": "stdout",
     "output_type": "stream",
     "text": [
      "<class 'pandas.core.frame.DataFrame'>\n",
      "RangeIndex: 1630 entries, 0 to 1629\n",
      "Data columns (total 2 columns):\n",
      " #   Column     Non-Null Count  Dtype \n",
      "---  ------     --------------  ----- \n",
      " 0   text       1630 non-null   object\n",
      " 1   sentiment  1630 non-null   int64 \n",
      "dtypes: int64(1), object(1)\n",
      "memory usage: 25.6+ KB\n"
     ]
    }
   ],
   "source": [
    "df.info()"
   ]
  },
  {
   "cell_type": "code",
   "execution_count": 8,
   "metadata": {
    "id": "16c-atOV-q6p"
   },
   "outputs": [],
   "source": [
    "def find_hashtags(text):\n",
    "    pattern = re.compile(r\"(#\\w+)\")\n",
    "    hashtags = pattern.findall(text)\n",
    "    return hashtags"
   ]
  },
  {
   "cell_type": "code",
   "execution_count": 9,
   "metadata": {
    "id": "lNG5THlI-q6q"
   },
   "outputs": [],
   "source": [
    "df[\"hashtags\"] = df['text'].apply(find_hashtags)"
   ]
  },
  {
   "cell_type": "code",
   "execution_count": 10,
   "metadata": {
    "colab": {
     "base_uri": "https://localhost:8080/"
    },
    "id": "odVnM2xW-q6q",
    "outputId": "67763410-eedf-4893-ffe8-eb4f3f9eefa0"
   },
   "outputs": [
    {
     "data": {
      "text/plain": [
       "0                    [#Note4]\n",
       "1             [#aapl, #apple]\n",
       "2                          []\n",
       "3                     [#aapl]\n",
       "4                          []\n",
       "                ...          \n",
       "1625                       []\n",
       "1626                       []\n",
       "1627                       []\n",
       "1628    [#WizKid, #Hollywood]\n",
       "1629                  [#aapl]\n",
       "Name: hashtags, Length: 1630, dtype: object"
      ]
     },
     "execution_count": 10,
     "metadata": {},
     "output_type": "execute_result"
    }
   ],
   "source": [
    "df['hashtags']"
   ]
  },
  {
   "cell_type": "code",
   "execution_count": 11,
   "metadata": {
    "colab": {
     "base_uri": "https://localhost:8080/",
     "height": 36
    },
    "id": "Pxe1mSw_-q6q",
    "outputId": "e30ed000-3f9c-4b35-dd0c-642084360553"
   },
   "outputs": [
    {
     "data": {
      "application/vnd.google.colaboratory.intrinsic+json": {
       "type": "string"
      },
      "text/plain": [
       "'Wow. Yall needa step it up @Apple RT @heynyla: Music and snapchat at the same damn time. Thank you #Note4'"
      ]
     },
     "execution_count": 11,
     "metadata": {},
     "output_type": "execute_result"
    }
   ],
   "source": [
    "df['text'][0]"
   ]
  },
  {
   "cell_type": "code",
   "execution_count": 12,
   "metadata": {
    "colab": {
     "base_uri": "https://localhost:8080/",
     "height": 36
    },
    "id": "ec5THCLC-q6r",
    "outputId": "6cb76753-eca7-4a81-dce7-2286649598ad"
   },
   "outputs": [
    {
     "data": {
      "application/vnd.google.colaboratory.intrinsic+json": {
       "type": "string"
      },
      "text/plain": [
       "'What Happened To Apple Inc?   http://t.co/FJEXI3oP0U  #aapl #apple @MoneyPress http://t.co/wXKmmTMArW'"
      ]
     },
     "execution_count": 12,
     "metadata": {},
     "output_type": "execute_result"
    }
   ],
   "source": [
    "df['text'][1]"
   ]
  },
  {
   "cell_type": "code",
   "execution_count": 13,
   "metadata": {
    "id": "hTY5p2s0-q6r"
   },
   "outputs": [],
   "source": [
    "hashtags = df['hashtags'].tolist()"
   ]
  },
  {
   "cell_type": "code",
   "execution_count": 14,
   "metadata": {
    "colab": {
     "base_uri": "https://localhost:8080/"
    },
    "id": "gNU9EDxl-q6r",
    "outputId": "073e4324-9bab-4d20-9f51-157fc19b4190",
    "scrolled": true
   },
   "outputs": [
    {
     "data": {
      "text/plain": [
       "['#Note4',\n",
       " '#aapl',\n",
       " '#apple',\n",
       " '#aapl',\n",
       " '#aapl',\n",
       " '#AAPL',\n",
       " '#iPhone6Plus',\n",
       " '#aapl',\n",
       " '#Apple',\n",
       " '#Skyworks',\n",
       " '#SWKS',\n",
       " '#AAPL',\n",
       " '#BRCM',\n",
       " '#MU',\n",
       " '#QCOM',\n",
       " '#VTI',\n",
       " '#aapl',\n",
       " '#Apple',\n",
       " '#AAPL',\n",
       " '#BeatsElectronics',\n",
       " '#Wireless',\n",
       " '#Apple',\n",
       " '#aapl',\n",
       " '#AAPL',\n",
       " '#iFail',\n",
       " '#AAPL',\n",
       " '#Apple',\n",
       " '#aapl',\n",
       " '#Apple',\n",
       " '#Apple',\n",
       " '#iPhone',\n",
       " '#aapl',\n",
       " '#Apple',\n",
       " '#aapl',\n",
       " '#macos',\n",
       " '#yosemite',\n",
       " '#windows8',\n",
       " '#AAPL',\n",
       " '#AAPL',\n",
       " '#CIO',\n",
       " '#iWatch',\n",
       " '#aapl',\n",
       " '#Apple',\n",
       " '#AAPL',\n",
       " '#AAPL',\n",
       " '#aapl',\n",
       " '#Nasdaq',\n",
       " '#android',\n",
       " '#ios',\n",
       " '#samsung',\n",
       " '#aapl',\n",
       " '#ApplePay',\n",
       " '#apple',\n",
       " '#GoodMore',\n",
       " '#GivingTuesday',\n",
       " '#StonerSports',\n",
       " '#3YearsOf5SOS',\n",
       " '#FlashvsArrow',\n",
       " '#stocks',\n",
       " '#aapl',\n",
       " '#Google',\n",
       " '#IPad',\n",
       " '#aapl',\n",
       " '#Will',\n",
       " '#IPhone6Plus',\n",
       " '#Apple',\n",
       " '#Monday',\n",
       " '#December',\n",
       " '#AAPL',\n",
       " '#GamerGate',\n",
       " '#64megaherts',\n",
       " '#AAPL',\n",
       " '#YosemiteProblems',\n",
       " '#apple',\n",
       " '#AAPL',\n",
       " '#AAPL',\n",
       " '#AAPL',\n",
       " '#Apple',\n",
       " '#Stocks',\n",
       " '#Record',\n",
       " '#News',\n",
       " '#iOS8',\n",
       " '#aapl',\n",
       " '#aapl',\n",
       " '#AAPL',\n",
       " '#AAPL',\n",
       " '#AAPL',\n",
       " '#Long',\n",
       " '#YosemiteProblems',\n",
       " '#AAPL',\n",
       " '#Tech',\n",
       " '#goog',\n",
       " '#aapl',\n",
       " '#fb',\n",
       " '#AAPL',\n",
       " '#PinkScreenOfDeath',\n",
       " '#aapl',\n",
       " '#Mac',\n",
       " '#PC',\n",
       " '#apple',\n",
       " '#AAPL',\n",
       " '#ipad',\n",
       " '#irig',\n",
       " '#ripoff',\n",
       " '#yosemite',\n",
       " '#bugs',\n",
       " '#AAPL',\n",
       " '#ThisIsWhyPeopleGetMurdered',\n",
       " '#aapl',\n",
       " '#Apple',\n",
       " '#aapl',\n",
       " '#AAPL',\n",
       " '#LGBT',\n",
       " '#Gayrights',\n",
       " '#Alabama',\n",
       " '#Apple',\n",
       " '#AAPL',\n",
       " '#Apple',\n",
       " '#AAPL',\n",
       " '#Apple',\n",
       " '#AAPL',\n",
       " '#WWDC',\n",
       " '#AppleCordFire',\n",
       " '#SteveJobs',\n",
       " '#apple',\n",
       " '#aapl',\n",
       " '#tech30',\n",
       " '#TL_Chat',\n",
       " '#apple',\n",
       " '#AAPL',\n",
       " '#GoPro',\n",
       " '#Apple',\n",
       " '#gpro',\n",
       " '#aapl',\n",
       " '#mp15',\n",
       " '#iPhone6',\n",
       " '#aapl',\n",
       " '#Howto',\n",
       " '#Apple',\n",
       " '#AAPL',\n",
       " '#JimmyIovine',\n",
       " '#AAPL',\n",
       " '#aapl',\n",
       " '#AppleSnob',\n",
       " '#Apple',\n",
       " '#Google',\n",
       " '#Alibaba',\n",
       " '#baba',\n",
       " '#goog',\n",
       " '#aapl',\n",
       " '#ComputerHistory',\n",
       " '#BethesdaRow',\n",
       " '#AAPL',\n",
       " '#blunderblock',\n",
       " '#Fashion',\n",
       " '#shame',\n",
       " '#fail',\n",
       " '#icloud',\n",
       " '#sucking',\n",
       " '#Apple',\n",
       " '#aapl',\n",
       " '#AAPL',\n",
       " '#AAPL',\n",
       " '#aapl',\n",
       " '#aapl',\n",
       " '#brokenchargerprobs',\n",
       " '#Verr',\n",
       " '#Ger',\n",
       " '#iPhone6s',\n",
       " '#Apple',\n",
       " '#Tuesday',\n",
       " '#December',\n",
       " '#AAPL',\n",
       " '#aapl',\n",
       " '#Stockaction',\n",
       " '#trading',\n",
       " '#Stocks',\n",
       " '#MKt',\n",
       " '#AAPL',\n",
       " '#GOOG',\n",
       " '#GOOGL',\n",
       " '#TSLA',\n",
       " '#WMT',\n",
       " '#PreMarket',\n",
       " '#Markets',\n",
       " '#FTDaily',\n",
       " '#FashionTech',\n",
       " '#applenews',\n",
       " '#iwatch',\n",
       " '#gadgets',\n",
       " '#aapl',\n",
       " '#apple',\n",
       " '#deletegame',\n",
       " '#DieIn',\n",
       " '#livingthedream',\n",
       " '#aapl',\n",
       " '#IOS',\n",
       " '#iPhone',\n",
       " '#AAPL',\n",
       " '#Apple',\n",
       " '#Patents',\n",
       " '#iPhone',\n",
       " '#Tuesday',\n",
       " '#December',\n",
       " '#Trading',\n",
       " '#stocks',\n",
       " '#futures',\n",
       " '#forex',\n",
       " '#trader',\n",
       " '#es',\n",
       " '#aapl',\n",
       " '#gpro',\n",
       " '#eSignal',\n",
       " '#aapl',\n",
       " '#Holiday',\n",
       " '#Giveaway',\n",
       " '#defective',\n",
       " '#sponsorDeal',\n",
       " '#MiniHeartAttack',\n",
       " '#iPhone',\n",
       " '#5starservice',\n",
       " '#BostonHoliday',\n",
       " '#UrbanNutcracker',\n",
       " '#krumpers',\n",
       " '#iPhone',\n",
       " '#shame',\n",
       " '#CreditCare',\n",
       " '#WhatYearIsIt',\n",
       " '#poorcustomerservice',\n",
       " '#aapl',\n",
       " '#parable',\n",
       " '#AppStore',\n",
       " '#Mac',\n",
       " '#PC',\n",
       " '#apple',\n",
       " '#AAPL',\n",
       " '#iOS',\n",
       " '#1',\n",
       " '#infiniteflight',\n",
       " '#aapl',\n",
       " '#AAPL',\n",
       " '#Holiday',\n",
       " '#Giveaway',\n",
       " '#Apple',\n",
       " '#AAPL',\n",
       " '#Tokyo',\n",
       " '#brooklyn',\n",
       " '#Wozniak',\n",
       " '#Jobs',\n",
       " '#Apple',\n",
       " '#aapl',\n",
       " '#disgusting',\n",
       " '#Sydney',\n",
       " '#aapl',\n",
       " '#aapl',\n",
       " '#HourOfCode',\n",
       " '#mkt',\n",
       " '#AAPL',\n",
       " '#PutCallRatios',\n",
       " '#applestorecoventgarden',\n",
       " '#aapl',\n",
       " '#AAPL',\n",
       " '#SupplyChain',\n",
       " '#Operations',\n",
       " '#Apple',\n",
       " '#Facebook',\n",
       " '#fb',\n",
       " '#aapl',\n",
       " '#Wozniak',\n",
       " '#SteveJobs',\n",
       " '#aapl',\n",
       " '#iPod',\n",
       " '#MusicBiz',\n",
       " '#MusicIndustry',\n",
       " '#Apple',\n",
       " '#NYC',\n",
       " '#EricGarner',\n",
       " '#BlackLivesMatters',\n",
       " '#ShutItDown',\n",
       " '#AAPL',\n",
       " '#Winnipeg',\n",
       " '#Apple',\n",
       " '#aapl',\n",
       " '#aapl',\n",
       " '#Swift',\n",
       " '#XCode',\n",
       " '#JustSayin',\n",
       " '#iTunes',\n",
       " '#Yosemite',\n",
       " '#Mavericks',\n",
       " '#tech',\n",
       " '#dontask',\n",
       " '#internet',\n",
       " '#DIY',\n",
       " '#airmilesshops',\n",
       " '#Verizon',\n",
       " '#FIOS',\n",
       " '#Yosemite',\n",
       " '#YosemiteProblems',\n",
       " '#Russia',\n",
       " '#SteveJobs',\n",
       " '#tribute',\n",
       " '#statue',\n",
       " '#Apple',\n",
       " '#AAPL',\n",
       " '#iPhone',\n",
       " '#memorial',\n",
       " '#bastards',\n",
       " '#OnlineFootprint',\n",
       " '#ModicumOfPrudence',\n",
       " '#AppleCordFire',\n",
       " '#Apple',\n",
       " '#aapl',\n",
       " '#badservice',\n",
       " '#Apple',\n",
       " '#AppleSantaMonica',\n",
       " '#Winter',\n",
       " '#Winnipeg',\n",
       " '#AAPL',\n",
       " '#aapl',\n",
       " '#aapl',\n",
       " '#iPhone6',\n",
       " '#Apple',\n",
       " '#aapl',\n",
       " '#iPhone',\n",
       " '#AAPL',\n",
       " '#iTunes',\n",
       " '#antitrust',\n",
       " '#Yosemite',\n",
       " '#sad',\n",
       " '#New',\n",
       " '#Apple',\n",
       " '#iPhone',\n",
       " '#one',\n",
       " '#Sunday',\n",
       " '#December',\n",
       " '#AAPL',\n",
       " '#aapl',\n",
       " '#iPhone6',\n",
       " '#Apple',\n",
       " '#Thursday',\n",
       " '#December',\n",
       " '#aapl',\n",
       " '#vod',\n",
       " '#streaming',\n",
       " '#AppleTV',\n",
       " '#aapl',\n",
       " '#AAPL',\n",
       " '#aapl',\n",
       " '#education',\n",
       " '#Apple',\n",
       " '#Loop',\n",
       " '#iPhone6S',\n",
       " '#Steve',\n",
       " '#Saturday',\n",
       " '#December',\n",
       " '#Verr',\n",
       " '#Ger',\n",
       " '#iPhone6s',\n",
       " '#Apple',\n",
       " '#Wednesday',\n",
       " '#December',\n",
       " '#yosemite',\n",
       " '#WORST',\n",
       " '#cantgoback',\n",
       " '#misssnowleopard',\n",
       " '#whathappened',\n",
       " '#AppStore2014',\n",
       " '#FTDaily',\n",
       " '#FashionTech',\n",
       " '#aapl',\n",
       " '#technologya',\n",
       " '#Apple',\n",
       " '#Apple',\n",
       " '#AAPL',\n",
       " '#Apple',\n",
       " '#aapl',\n",
       " '#ipod',\n",
       " '#apple',\n",
       " '#soslow',\n",
       " '#AAPL',\n",
       " '#slc',\n",
       " '#citycreek',\n",
       " '#apple',\n",
       " '#applestore',\n",
       " '#red',\n",
       " '#Rumors',\n",
       " '#Surface',\n",
       " '#Apple',\n",
       " '#iPhone6S',\n",
       " '#iPhone7',\n",
       " '#2015',\n",
       " '#Wednesday',\n",
       " '#December',\n",
       " '#Apple',\n",
       " '#aapl',\n",
       " '#iPhone',\n",
       " '#iPad',\n",
       " '#aapl',\n",
       " '#aapl',\n",
       " '#iOS8',\n",
       " '#iPhone6Plus',\n",
       " '#phablets',\n",
       " '#Jobspring',\n",
       " '#technews',\n",
       " '#iPhone',\n",
       " '#aapl',\n",
       " '#ipadmini',\n",
       " '#ipad',\n",
       " '#macbook',\n",
       " '#macbookpro',\n",
       " '#startup',\n",
       " '#hipster',\n",
       " '#unbox',\n",
       " '#AAPL',\n",
       " '#Apple',\n",
       " '#AAPL',\n",
       " '#CRUS',\n",
       " '#AAPL',\n",
       " '#connected',\n",
       " '#txed',\n",
       " '#aapl',\n",
       " '#Apple',\n",
       " '#AppleWatch',\n",
       " '#aapl',\n",
       " '#LikeWatchingPaintDry',\n",
       " '#nyc',\n",
       " '#travel',\n",
       " '#NYC',\n",
       " '#EricGarner',\n",
       " '#AAPL',\n",
       " '#apple',\n",
       " '#PoliceBodyCameras',\n",
       " '#Toledo',\n",
       " '#stickybrand',\n",
       " '#ChartOfTheDay',\n",
       " '#AAPL',\n",
       " '#appstore',\n",
       " '#aapl',\n",
       " '#iosissues',\n",
       " '#iOS',\n",
       " '#SwiftKey',\n",
       " '#Swype',\n",
       " '#Android',\n",
       " '#Apple',\n",
       " '#Facebook',\n",
       " '#Google',\n",
       " '#aapl',\n",
       " '#fb',\n",
       " '#goog',\n",
       " '#iphone6',\n",
       " '#MobilePhone',\n",
       " '#iphone5',\n",
       " '#ipad2',\n",
       " '#G5macpro',\n",
       " '#startups',\n",
       " '#nice',\n",
       " '#iPhone6',\n",
       " '#iPhone6',\n",
       " '#TMobile',\n",
       " '#Apple',\n",
       " '#tech',\n",
       " '#smartphone',\n",
       " '#Macs',\n",
       " '#PCs',\n",
       " '#aapl',\n",
       " '#Apple',\n",
       " '#AAPL',\n",
       " '#aapl',\n",
       " '#aapl',\n",
       " '#ecommerce',\n",
       " '#AAPL',\n",
       " '#AAPL',\n",
       " '#funconvo',\n",
       " '#JMP',\n",
       " '#AAPL',\n",
       " '#Stocks',\n",
       " '#WallStreet',\n",
       " '#Mobile',\n",
       " '#MobileDose',\n",
       " '#iPhone6Plus',\n",
       " '#thestruggleisreal',\n",
       " '#Apple',\n",
       " '#AppleWatches',\n",
       " '#aapl',\n",
       " '#Apple',\n",
       " '#IPhone6Plus',\n",
       " '#White',\n",
       " '#Friday',\n",
       " '#December',\n",
       " '#AAPL',\n",
       " '#AAPL',\n",
       " '#free',\n",
       " '#AAPL',\n",
       " '#Winnipeg',\n",
       " '#AAPL',\n",
       " '#simplicity',\n",
       " '#AAPL',\n",
       " '#ipad',\n",
       " '#AAPL',\n",
       " '#Apple',\n",
       " '#Apple',\n",
       " '#SteveJobs',\n",
       " '#aapl',\n",
       " '#AAPL',\n",
       " '#customer',\n",
       " '#journey',\n",
       " '#search',\n",
       " '#checkout',\n",
       " '#CX',\n",
       " '#UX',\n",
       " '#ecommerce',\n",
       " '#casestudy',\n",
       " '#ProAudio',\n",
       " '#AAPL',\n",
       " '#Wozniak',\n",
       " '#Apple',\n",
       " '#SteveJobs',\n",
       " '#aapl',\n",
       " '#iPhone5s',\n",
       " '#aapl',\n",
       " '#Chromecast',\n",
       " '#AppleTV',\n",
       " '#aapl',\n",
       " '#Apple',\n",
       " '#aapl',\n",
       " '#iPod',\n",
       " '#bayarea',\n",
       " '#techies',\n",
       " '#iphone',\n",
       " '#iCloud',\n",
       " '#Apple',\n",
       " '#HealthKit',\n",
       " '#AAPL',\n",
       " '#ipodtouch5thgen',\n",
       " '#iPhone6',\n",
       " '#Apple',\n",
       " '#Wednesday',\n",
       " '#December',\n",
       " '#wearabletechnology',\n",
       " '#aapl',\n",
       " '#payments',\n",
       " '#SteveJobs',\n",
       " '#iPod',\n",
       " '#aapl',\n",
       " '#aapl',\n",
       " '#Stockaction',\n",
       " '#trading',\n",
       " '#Stocks',\n",
       " '#MKt',\n",
       " '#WearableDevices',\n",
       " '#Consumers',\n",
       " '#IBDNews',\n",
       " '#aapl',\n",
       " '#nke',\n",
       " '#grmn',\n",
       " '#amba',\n",
       " '#invn',\n",
       " '#tech',\n",
       " '#Zuckerberg',\n",
       " '#Cook',\n",
       " '#fb',\n",
       " '#aapl',\n",
       " '#EggFreezing',\n",
       " '#WomenInTech',\n",
       " '#xcode',\n",
       " '#AAPL',\n",
       " '#ApplePay',\n",
       " '#AAPL',\n",
       " '#aapl',\n",
       " '#aapl',\n",
       " '#apple',\n",
       " '#iphone',\n",
       " '#iphone4s',\n",
       " '#iphone4problems',\n",
       " '#AAPL',\n",
       " '#AAPL',\n",
       " '#sortitout',\n",
       " '#China',\n",
       " '#AppleWatch',\n",
       " '#Wearables',\n",
       " '#WearableTech',\n",
       " '#Apple',\n",
       " '#apple',\n",
       " '#retail',\n",
       " '#India',\n",
       " '#Holiday',\n",
       " '#Giveaway',\n",
       " '#PromoProduct',\n",
       " '#HeadsAreGoingToRoll',\n",
       " '#education',\n",
       " '#BDSM',\n",
       " '#Emojis',\n",
       " '#ipodtouch5thgen',\n",
       " '#fail',\n",
       " '#Apple',\n",
       " '#AAPL',\n",
       " '#AAPL',\n",
       " '#CarPlay',\n",
       " '#greatservice',\n",
       " '#sylvester',\n",
       " '#falseadvertising',\n",
       " '#nono',\n",
       " '#AAPL',\n",
       " '#Russia',\n",
       " '#Ban',\n",
       " '#Apple',\n",
       " '#iPhone',\n",
       " '#Lawmakers',\n",
       " '#AAPL',\n",
       " '#tech',\n",
       " '#security',\n",
       " '#AAPL',\n",
       " '#bbry',\n",
       " '#blackberry',\n",
       " '#iPhone',\n",
       " '#aapl',\n",
       " '#aapl',\n",
       " '#innovation',\n",
       " '#COMET',\n",
       " '#Apple',\n",
       " '#Tech',\n",
       " '#aapl',\n",
       " '#Rumors',\n",
       " '#Surface',\n",
       " '#Apple',\n",
       " '#iPhone6S',\n",
       " '#iPhone7',\n",
       " '#2015',\n",
       " '#Wednesday',\n",
       " '#December',\n",
       " '#iPod',\n",
       " '#aapl',\n",
       " '#AAPL',\n",
       " '#AAPL',\n",
       " '#RED',\n",
       " '#app',\n",
       " '#Apple',\n",
       " '#iPhones',\n",
       " '#aapl',\n",
       " '#iPhone6',\n",
       " '#iPhone6',\n",
       " '#6',\n",
       " '#Apple',\n",
       " '#Sunday',\n",
       " '#December',\n",
       " '#Apple',\n",
       " '#iPhone6',\n",
       " '#iPhone6Plus',\n",
       " '#techsupport',\n",
       " '#macbook',\n",
       " '#macbookpro',\n",
       " '#startup',\n",
       " '#hipster',\n",
       " '#Apple',\n",
       " '#iPhone',\n",
       " '#aapl',\n",
       " '#BlackDollarsMatter',\n",
       " '#LGBTQ',\n",
       " '#disappointed',\n",
       " '#AAPL',\n",
       " '#Coding',\n",
       " '#apple',\n",
       " '#Apple',\n",
       " '#iPadMini4',\n",
       " '#aapl',\n",
       " '#AAPL',\n",
       " '#AppleCordFire',\n",
       " '#Zuckerberg',\n",
       " '#Cook',\n",
       " '#fb',\n",
       " '#aapl',\n",
       " '#Trading',\n",
       " '#stocks',\n",
       " '#futures',\n",
       " '#forex',\n",
       " '#trader',\n",
       " '#es',\n",
       " '#baba',\n",
       " '#aapl',\n",
       " '#gpro',\n",
       " '#fb',\n",
       " '#eem',\n",
       " '#eSignal',\n",
       " '#Apple',\n",
       " '#aapl',\n",
       " '#InvestWall',\n",
       " '#AAPL',\n",
       " '#iPad',\n",
       " '#EBAY',\n",
       " '#CyberMonday',\n",
       " '#firstworldproblems',\n",
       " '#PromoProduct',\n",
       " '#HeadsAreGoingToRoll',\n",
       " '#MFi',\n",
       " '#macbook',\n",
       " '#macbookpro',\n",
       " '#startup',\n",
       " '#hipster',\n",
       " '#unboxing',\n",
       " '#Apple',\n",
       " '#AAPL',\n",
       " '#RealNetworks',\n",
       " '#AAPL',\n",
       " '#AAPL',\n",
       " '#iOS7',\n",
       " '#mobilesecurity',\n",
       " '#McAfee',\n",
       " '#Apple',\n",
       " '#aapl',\n",
       " '#longreads',\n",
       " '#webdesign',\n",
       " '#glitches',\n",
       " '#OnFoodableWeekly',\n",
       " '#Pizza',\n",
       " '#Apple',\n",
       " '#Wozniak',\n",
       " '#aapl',\n",
       " '#woz',\n",
       " '#business',\n",
       " '#service',\n",
       " '#company',\n",
       " '#AAPL',\n",
       " '#aapl',\n",
       " '#not',\n",
       " '#iphone6plus',\n",
       " '#apple',\n",
       " '#macbook',\n",
       " '#YosemiteProblems',\n",
       " '#Yosemite',\n",
       " '#fail',\n",
       " '#AAPL',\n",
       " '#aapl',\n",
       " '#Yay',\n",
       " '#AAPL',\n",
       " '#CondoSeniors',\n",
       " '#AAPL',\n",
       " '#Robots',\n",
       " '#fabricando',\n",
       " '#iPhone',\n",
       " '#iPad',\n",
       " '#Apple',\n",
       " '#Sunday',\n",
       " '#December',\n",
       " '#AppleWatch',\n",
       " '#AAPL',\n",
       " '#incompetence',\n",
       " '#AppleID',\n",
       " '#NoMorePaywords',\n",
       " '#not',\n",
       " '#Jobs',\n",
       " '#Apple',\n",
       " '#SteveJobs',\n",
       " '#aapl',\n",
       " '#iPhones',\n",
       " '#RareEarths',\n",
       " '#iPhone6Plus',\n",
       " '#AAPL',\n",
       " '#iTunes',\n",
       " '#GoogleMusic',\n",
       " '#aapl',\n",
       " '#goog',\n",
       " '#morphing',\n",
       " '#antitrust',\n",
       " '#french',\n",
       " '#aapl',\n",
       " '#Verr',\n",
       " '#Ger',\n",
       " '#iPhone6s',\n",
       " '#Apple',\n",
       " '#Wednesday',\n",
       " '#December',\n",
       " '#Apple',\n",
       " '#iPhones',\n",
       " '#aapl',\n",
       " '#fixit',\n",
       " '#doclens',\n",
       " '#AAPL',\n",
       " '#AAPL',\n",
       " '#AAPL',\n",
       " '#CmonMan',\n",
       " '#Apple',\n",
       " '#Google',\n",
       " '#Apple',\n",
       " '#AAPL',\n",
       " '#aapl',\n",
       " '#NASDAQ',\n",
       " '#stocks',\n",
       " '#AAPL',\n",
       " '#Apple',\n",
       " '#AAPL',\n",
       " '#iPhone6Mini',\n",
       " '#umich',\n",
       " '#iphone6',\n",
       " '#applewatch',\n",
       " '#Education',\n",
       " '#Tech',\n",
       " '#smartwatch',\n",
       " '#aapl',\n",
       " '#aapl',\n",
       " '#AAPL',\n",
       " '#ColoradoLovesYou',\n",
       " '#Apple',\n",
       " '#is',\n",
       " '#iPhone',\n",
       " '#map',\n",
       " '#Monday',\n",
       " '#December',\n",
       " '#motivation',\n",
       " '#Apple',\n",
       " '#Launch',\n",
       " '#iPhone6',\n",
       " '#2015',\n",
       " '#Monday',\n",
       " '#December',\n",
       " '#ConnectED',\n",
       " '#txed',\n",
       " '#txed',\n",
       " '#aapl',\n",
       " '#hnhd',\n",
       " '#AAPL',\n",
       " '#Sydney',\n",
       " '#airmilesshops',\n",
       " '#Russia',\n",
       " '#Kalashnikov',\n",
       " '#AAPL',\n",
       " '#aapl',\n",
       " '#Apple',\n",
       " '#iphone7',\n",
       " '#appstore',\n",
       " '#PromoProduct',\n",
       " '#HeadsAreGoingToRoll',\n",
       " '#MFi',\n",
       " '#crapple',\n",
       " '#fail',\n",
       " '#aapl',\n",
       " '#cunts',\n",
       " '#fucking',\n",
       " '#Yosemite',\n",
       " '#UPDATE',\n",
       " '#Pricks',\n",
       " '#aapl',\n",
       " '#AAPL',\n",
       " '#AAPL',\n",
       " '#AAPL',\n",
       " '#iPhone',\n",
       " '#aapl',\n",
       " '#AAPL',\n",
       " '#Apple',\n",
       " '#CRMSuite',\n",
       " '#iPod',\n",
       " '#MusicBiz',\n",
       " '#MusicIndustry',\n",
       " '#Apple',\n",
       " '#AAPL',\n",
       " '#iPad',\n",
       " '#autocorrectprobs',\n",
       " '#AAPL',\n",
       " '#AAPL',\n",
       " '#AAPL',\n",
       " '#Apple',\n",
       " '#AAPL',\n",
       " '#GwenStefani',\n",
       " '#CyberMonday',\n",
       " '#Ipads',\n",
       " '#Iphones',\n",
       " '#Mac',\n",
       " '#IPhone6Plus',\n",
       " '#A',\n",
       " '#Apple',\n",
       " '#iPhone',\n",
       " '#Thursday',\n",
       " '#December',\n",
       " '#AppleWatch',\n",
       " '#aapl',\n",
       " '#appleemojissuck',\n",
       " '#Apple',\n",
       " '#aapl',\n",
       " '#Apple',\n",
       " '#iPhone6S',\n",
       " '#iPhone7',\n",
       " '#aapl',\n",
       " '#vod',\n",
       " '#streaming',\n",
       " '#Apple',\n",
       " '#Inc',\n",
       " '#iPhone6',\n",
       " '#But',\n",
       " '#Monday',\n",
       " '#December',\n",
       " '#FixIt',\n",
       " '#iPhone6',\n",
       " '#aapl',\n",
       " '#engagement',\n",
       " '#personalization',\n",
       " '#AAPL',\n",
       " '#Nasdaq100',\n",
       " '#recent',\n",
       " '#market',\n",
       " '#exit',\n",
       " '#4',\n",
       " '#gain',\n",
       " '#AAPL',\n",
       " '#forex',\n",
       " '#trading',\n",
       " '#stocks',\n",
       " '#aapl',\n",
       " '#profit',\n",
       " '#Apple',\n",
       " '#AAPL',\n",
       " '#options',\n",
       " '#trade',\n",
       " '#trading',\n",
       " '#finance',\n",
       " '#short',\n",
       " '#bet',\n",
       " '#hedge',\n",
       " '#customerservice',\n",
       " '#AAPL',\n",
       " '#Apple',\n",
       " '#iPad',\n",
       " '#AAPL',\n",
       " '#AAPL',\n",
       " '#Apple',\n",
       " '#AAPL',\n",
       " '#greatcompany',\n",
       " '#AAPL',\n",
       " '#iOS',\n",
       " '#1',\n",
       " '#AAPL',\n",
       " '#PutCallRatios',\n",
       " '#code',\n",
       " '#analysis',\n",
       " '#web',\n",
       " '#tech',\n",
       " '#nerdup',\n",
       " '#AAPL',\n",
       " '#IPhone6Plus',\n",
       " '#Has',\n",
       " '#Apple',\n",
       " '#Phablet',\n",
       " '#Thursday',\n",
       " '#Decem',\n",
       " '#FinTech',\n",
       " '#AAPL',\n",
       " '#aapl',\n",
       " '#Apple',\n",
       " '#textmessage',\n",
       " '#AAPL',\n",
       " '#CyberMonday',\n",
       " '#PayPal',\n",
       " '#Apple',\n",
       " '#AAPL',\n",
       " '#eBay',\n",
       " '#WalMart',\n",
       " '#WMT',\n",
       " '#Sales',\n",
       " '#Apple',\n",
       " '#Loop',\n",
       " '#iPhone6S',\n",
       " '#Jobs',\n",
       " '#Saturday',\n",
       " '#December',\n",
       " '#ipadmini',\n",
       " '#ipad',\n",
       " '#macbook',\n",
       " '#macbookpro',\n",
       " '#startup',\n",
       " '#hipster',\n",
       " '#unboxing',\n",
       " '#OpenUp',\n",
       " '#iPhones',\n",
       " '#WintersEve',\n",
       " '#NYC',\n",
       " '#aapl',\n",
       " '#Lego',\n",
       " '#makers',\n",
       " '#Robots',\n",
       " '#fabricando',\n",
       " '#iPhone',\n",
       " '#iPad',\n",
       " '#Apple',\n",
       " '#Sunday',\n",
       " '#December',\n",
       " '#appleprobs',\n",
       " '#appleproblems',\n",
       " '#aapl',\n",
       " '#aapl',\n",
       " '#smhq',\n",
       " '#Apple',\n",
       " '#aapl',\n",
       " '#apple',\n",
       " '#Monetizaton',\n",
       " '#WatchKit',\n",
       " '#AAPL',\n",
       " '#aapl',\n",
       " '#Stockaction',\n",
       " '#trading',\n",
       " '#Stocks',\n",
       " '#MKt',\n",
       " ...]"
      ]
     },
     "execution_count": 14,
     "metadata": {},
     "output_type": "execute_result"
    }
   ],
   "source": [
    "hashtags = [element for innerList in hashtags for element in innerList]\n",
    "hashtags"
   ]
  },
  {
   "cell_type": "code",
   "execution_count": 15,
   "metadata": {
    "id": "Y9kdbcKp-q6r"
   },
   "outputs": [],
   "source": [
    "set_hashtags = set(hashtags)"
   ]
  },
  {
   "cell_type": "code",
   "execution_count": 16,
   "metadata": {
    "id": "GlMoVQPn-q6r"
   },
   "outputs": [],
   "source": [
    "hashtags_frq = []\n",
    "\n",
    "for hashtag in set_hashtags:\n",
    "    frq = hashtags.count(hashtag)\n",
    "    hashtags_frq.append((hashtag, frq))"
   ]
  },
  {
   "cell_type": "code",
   "execution_count": 17,
   "metadata": {
    "id": "sFt-bQg5-q6s"
   },
   "outputs": [],
   "source": [
    "hashtags_frq.sort(key = lambda x: x[1],reverse=True)"
   ]
  },
  {
   "cell_type": "code",
   "execution_count": 18,
   "metadata": {
    "colab": {
     "base_uri": "https://localhost:8080/"
    },
    "id": "1e7aZeYo-q6s",
    "outputId": "f106e06f-610e-46c2-bd3e-a8c01dec109e"
   },
   "outputs": [
    {
     "name": "stdout",
     "output_type": "stream",
     "text": [
      "The number of hashtags in the dataset is:  607\n"
     ]
    }
   ],
   "source": [
    "print('The number of hashtags in the dataset is: ', len(hashtags_frq))"
   ]
  },
  {
   "cell_type": "code",
   "execution_count": 19,
   "metadata": {
    "colab": {
     "base_uri": "https://localhost:8080/"
    },
    "id": "hW3gMnJH-q6s",
    "outputId": "1610dc23-bd25-4435-c71c-3280f4b2b77f",
    "scrolled": false
   },
   "outputs": [
    {
     "data": {
      "text/plain": [
       "[('#AAPL', 203),\n",
       " ('#aapl', 197),\n",
       " ('#Apple', 134),\n",
       " ('#December', 37),\n",
       " ('#iPhone', 33),\n",
       " ('#apple', 27),\n",
       " ('#iPhone6', 24),\n",
       " ('#tech', 9),\n",
       " ('#trading', 9),\n",
       " ('#SteveJobs', 9)]"
      ]
     },
     "execution_count": 19,
     "metadata": {},
     "output_type": "execute_result"
    }
   ],
   "source": [
    "hashtags_frq[0:10]"
   ]
  },
  {
   "cell_type": "code",
   "execution_count": 20,
   "metadata": {
    "id": "mTljRD-q-q6s"
   },
   "outputs": [],
   "source": [
    "hashtag = []\n",
    "freq = []\n",
    "\n",
    "for i in hashtags_frq[0:10]:\n",
    "    hashtag.append(i[0])\n",
    "    freq.append(i[1])"
   ]
  },
  {
   "cell_type": "code",
   "execution_count": 21,
   "metadata": {
    "colab": {
     "base_uri": "https://localhost:8080/",
     "height": 609
    },
    "id": "mDXvpU85-q6s",
    "outputId": "78232e92-3668-4573-e7a5-248c681493de",
    "scrolled": false
   },
   "outputs": [
    {
     "data": {
      "text/plain": [
       "<BarContainer object of 10 artists>"
      ]
     },
     "execution_count": 21,
     "metadata": {},
     "output_type": "execute_result"
    },
    {
     "data": {
      "image/png": "[encoded data removed]",
      "text/plain": [
       "<Figure size 864x720 with 1 Axes>"
      ]
     },
     "metadata": {
      "needs_background": "light"
     },
     "output_type": "display_data"
    }
   ],
   "source": [
    "plt.figure(figsize=(12,10))\n",
    "plt.bar(hashtag, freq)"
   ]
  },
  {
   "cell_type": "code",
   "execution_count": 22,
   "metadata": {
    "colab": {
     "base_uri": "https://localhost:8080/",
     "height": 296
    },
    "id": "X2LW4Tyu-q6t",
    "outputId": "d6f09a70-466f-40fb-ac1a-8226fbb74f32",
    "scrolled": false
   },
   "outputs": [
    {
     "data": {
      "text/plain": [
       "<matplotlib.axes._subplots.AxesSubplot at 0x7f404a373160>"
      ]
     },
     "execution_count": 22,
     "metadata": {},
     "output_type": "execute_result"
    },
    {
     "data": {
      "image/png": "[encoded data removed]",
      "text/plain": [
       "<Figure size 432x288 with 1 Axes>"
      ]
     },
     "metadata": {
      "needs_background": "light"
     },
     "output_type": "display_data"
    }
   ],
   "source": [
    "sns.countplot(data=df, x= 'sentiment')"
   ]
  },
  {
   "cell_type": "code",
   "execution_count": 23,
   "metadata": {
    "id": "_w6HQzS6-q6t"
   },
   "outputs": [],
   "source": [
    "pos_df = df[df['sentiment'] == 1]\n",
    "neg_df = df[df['sentiment'] == -1]"
   ]
  },
  {
   "cell_type": "code",
   "execution_count": 24,
   "metadata": {
    "id": "d6OojCB_-q6t"
   },
   "outputs": [],
   "source": [
    "text = \" \".join(text.split()[1] for text in pos_df['text'])\n",
    "\n",
    "word_cloud_pos = WordCloud(collocations = False, background_color = 'white').generate(text)"
   ]
  },
  {
   "cell_type": "code",
   "execution_count": 25,
   "metadata": {
    "colab": {
     "base_uri": "https://localhost:8080/",
     "height": 215
    },
    "id": "6hpQNThC-q6t",
    "outputId": "b1427334-0662-456e-def6-f9a0920e32b3"
   },
   "outputs": [
    {
     "data": {
      "text/plain": [
       "(-0.5, 399.5, 199.5, -0.5)"
      ]
     },
     "execution_count": 25,
     "metadata": {},
     "output_type": "execute_result"
    },
    {
     "data": {
      "image/png": "[encoded data removed]",
      "text/plain": [
       "<Figure size 432x288 with 1 Axes>"
      ]
     },
     "metadata": {
      "needs_background": "light"
     },
     "output_type": "display_data"
    }
   ],
   "source": [
    "plt.imshow(word_cloud_pos, interpolation='bilinear')\n",
    "plt.axis(\"off\")"
   ]
  },
  {
   "cell_type": "code",
   "execution_count": 26,
   "metadata": {
    "id": "QbqekKCb-q6t"
   },
   "outputs": [],
   "source": [
    "text = \" \".join(text.split()[1] for text in neg_df['text'])\n",
    "\n",
    "word_cloud_neg = WordCloud(collocations = False, background_color = 'white').generate(text)"
   ]
  },
  {
   "cell_type": "code",
   "execution_count": 27,
   "metadata": {
    "colab": {
     "base_uri": "https://localhost:8080/",
     "height": 215
    },
    "id": "cjmDgkkj-q6u",
    "outputId": "ce6dfa31-dfda-4c27-ff08-28f7968c7afe",
    "scrolled": true
   },
   "outputs": [
    {
     "data": {
      "text/plain": [
       "(-0.5, 399.5, 199.5, -0.5)"
      ]
     },
     "execution_count": 27,
     "metadata": {},
     "output_type": "execute_result"
    },
    {
     "data": {
      "image/png": "[encoded data removed]",
      "text/plain": [
       "<Figure size 432x288 with 1 Axes>"
      ]
     },
     "metadata": {
      "needs_background": "light"
     },
     "output_type": "display_data"
    }
   ],
   "source": [
    "plt.imshow(word_cloud_neg, interpolation='bilinear')\n",
    "plt.axis(\"off\")"
   ]
  },
  {
   "cell_type": "markdown",
   "metadata": {
    "id": "9yBAnfQ_-q6u"
   },
   "source": [
    "## 3. Data pre-processing"
   ]
  },
  {
   "cell_type": "code",
   "execution_count": 28,
   "metadata": {
    "id": "adsFq5MW-q6v"
   },
   "outputs": [],
   "source": [
    "def remove_url(text):\n",
    "    url_clean = re.compile(r\"https?://\\S+|www\\.\\S+\")\n",
    "    text=url_clean.sub(r'',text)\n",
    "    return text"
   ]
  },
  {
   "cell_type": "code",
   "execution_count": 29,
   "metadata": {
    "id": "d7Hv3rrn-q6v"
   },
   "outputs": [],
   "source": [
    "def remove_hashtags_tags(text):\n",
    "    pattern = re.compile(r\"(#\\w+)\")\n",
    "    hashtags = pattern.sub(r\"\", text)\n",
    "    \n",
    "    pattern = re.compile(r\"(@\\w+)\")\n",
    "    tags = pattern.sub(r\"\", hashtags)\n",
    "     \n",
    "    return tags.strip()"
   ]
  },
  {
   "cell_type": "code",
   "execution_count": 30,
   "metadata": {
    "id": "lGerfFL5-q6v"
   },
   "outputs": [],
   "source": [
    "def remove_emoji(text):\n",
    "    emoji_clean= re.compile(\"[\"\n",
    "                           u\"\\U0001F600-\\U0001F64F\"  # emoticons\n",
    "                           u\"\\U0001F300-\\U0001F5FF\"  # symbols & pictographs\n",
    "                           u\"\\U0001F680-\\U0001F6FF\"  # transport & map symbols\n",
    "                           u\"\\U0001F1E0-\\U0001F1FF\"  # flags (iOS)\n",
    "                           u\"\\U00002702-\\U000027B0\"\n",
    "                           u\"\\U000024C2-\\U0001F251\"\n",
    "                           \"]+\", flags=re.UNICODE)\n",
    "    text=emoji_clean.sub(r'',text)\n",
    "    return text"
   ]
  },
  {
   "cell_type": "code",
   "execution_count": 31,
   "metadata": {
    "id": "lsMOSD1A-q6w"
   },
   "outputs": [],
   "source": [
    "def remove_abb(data):\n",
    "    data = re.sub(r\"he's\", \"he is\", data)\n",
    "    data = re.sub(r\"there's\", \"there is\", data)\n",
    "    data = re.sub(r\"We're\", \"We are\", data)\n",
    "    data = re.sub(r\"That's\", \"That is\", data)\n",
    "    data = re.sub(r\"won't\", \"will not\", data)\n",
    "    data = re.sub(r\"they're\", \"they are\", data)\n",
    "    data = re.sub(r\"Can't\", \"Cannot\", data)\n",
    "    data = re.sub(r\"wasn't\", \"was not\", data)\n",
    "    data= re.sub(r\"aren't\", \"are not\", data)\n",
    "    data = re.sub(r\"isn't\", \"is not\", data)\n",
    "    data = re.sub(r\"What's\", \"What is\", data)\n",
    "    data = re.sub(r\"haven't\", \"have not\", data)\n",
    "    data = re.sub(r\"hasn't\", \"has not\", data)\n",
    "    data = re.sub(r\"There's\", \"There is\", data)\n",
    "    data = re.sub(r\"He's\", \"He is\", data)\n",
    "    data = re.sub(r\"It's\", \"It is\", data)\n",
    "    data = re.sub(r\"You're\", \"You are\", data)\n",
    "    data = re.sub(r\"I'M\", \"I am\", data)\n",
    "    data = re.sub(r\"shouldn't\", \"should not\", data)\n",
    "    data = re.sub(r\"wouldn't\", \"would not\", data)\n",
    "    data = re.sub(r\"i'm\", \"I am\", data)\n",
    "    data = re.sub(r\"I'm\", \"I am\", data)\n",
    "    data = re.sub(r\"Isn't\", \"is not\", data)\n",
    "    data = re.sub(r\"Here's\", \"Here is\", data)\n",
    "    data = re.sub(r\"you've\", \"you have\", data)\n",
    "    data = re.sub(r\"we're\", \"we are\", data)\n",
    "    data = re.sub(r\"what's\", \"what is\", data)\n",
    "    data = re.sub(r\"couldn't\", \"could not\", data)\n",
    "    data = re.sub(r\"we've\", \"we have\", data)\n",
    "    data = re.sub(r\"who's\", \"who is\", data)\n",
    "    data = re.sub(r\"y'all\", \"you all\", data)\n",
    "    data = re.sub(r\"would've\", \"would have\", data)\n",
    "    data = re.sub(r\"it'll\", \"it will\", data)\n",
    "    data = re.sub(r\"we'll\", \"we will\", data)\n",
    "    data = re.sub(r\"We've\", \"We have\", data)\n",
    "    data = re.sub(r\"he'll\", \"he will\", data)\n",
    "    data = re.sub(r\"Y'all\", \"You all\", data)\n",
    "    data = re.sub(r\"Weren't\", \"Were not\", data)\n",
    "    data = re.sub(r\"Didn't\", \"Did not\", data)\n",
    "    data = re.sub(r\"they'll\", \"they will\", data)\n",
    "    data = re.sub(r\"they'd\", \"they would\", data)\n",
    "    data = re.sub(r\"DON'T\", \"DO NOT\", data)\n",
    "    data = re.sub(r\"they've\", \"they have\", data)\n",
    "    data = re.sub(r\"i'd\", \"I would\", data)\n",
    "    data = re.sub(r\"should've\", \"should have\", data)\n",
    "    data = re.sub(r\"where's\", \"where is\", data)\n",
    "    data = re.sub(r\"we'd\", \"we would\", data)\n",
    "    data = re.sub(r\"i'll\", \"I will\", data)\n",
    "    data = re.sub(r\"weren't\", \"were not\", data)\n",
    "    data = re.sub(r\"They're\", \"They are\", data)\n",
    "    data = re.sub(r\"let's\", \"let us\", data)\n",
    "    data = re.sub(r\"it's\", \"it is\", data)\n",
    "    data = re.sub(r\"can't\", \"cannot\", data)\n",
    "    data = re.sub(r\"don't\", \"do not\", data)\n",
    "    data = re.sub(r\"you're\", \"you are\", data)\n",
    "    data = re.sub(r\"i've\", \"I have\", data)\n",
    "    data = re.sub(r\"that's\", \"that is\", data)\n",
    "    data = re.sub(r\"i'll\", \"I will\", data)\n",
    "    data = re.sub(r\"doesn't\", \"does not\",data)\n",
    "    data = re.sub(r\"i'd\", \"I would\", data)\n",
    "    data = re.sub(r\"didn't\", \"did not\", data)\n",
    "    data = re.sub(r\"ain't\", \"am not\", data)\n",
    "    data = re.sub(r\"you'll\", \"you will\", data)\n",
    "    data = re.sub(r\"I've\", \"I have\", data)\n",
    "    data = re.sub(r\"Don't\", \"do not\", data)\n",
    "    data = re.sub(r\"I'll\", \"I will\", data)\n",
    "    data = re.sub(r\"I'd\", \"I would\", data)\n",
    "    data = re.sub(r\"Let's\", \"Let us\", data)\n",
    "    data = re.sub(r\"you'd\", \"You would\", data)\n",
    "    data = re.sub(r\"It's\", \"It is\", data)\n",
    "    data = re.sub(r\"Ain't\", \"am not\", data)\n",
    "    data = re.sub(r\"Haven't\", \"Have not\", data)\n",
    "    data = re.sub(r\"Could've\", \"Could have\", data)\n",
    "    data = re.sub(r\"youve\", \"you have\", data)  \n",
    "    \n",
    "    return data"
   ]
  },
  {
   "cell_type": "code",
   "execution_count": 32,
   "metadata": {
    "id": "aGK5QBX6-q6w"
   },
   "outputs": [],
   "source": [
    "def remove_punc(data):\n",
    "    punc_clean = re.compile(r\"[.,:;_$?-]\")\n",
    "    data=punc_clean.sub(r'',data)\n",
    "    return data"
   ]
  },
  {
   "cell_type": "code",
   "execution_count": 34,
   "metadata": {
    "colab": {
     "base_uri": "https://localhost:8080/"
    },
    "id": "kOZBCPOd_IQz",
    "outputId": "73081757-f6d5-48c0-fb7a-6dfeeed514c1"
   },
   "outputs": [
    {
     "name": "stderr",
     "output_type": "stream",
     "text": [
      "[nltk_data] Downloading package stopwords to /root/nltk_data...\n",
      "[nltk_data]   Unzipping corpora/stopwords.zip.\n"
     ]
    },
    {
     "data": {
      "text/plain": [
       "True"
      ]
     },
     "execution_count": 34,
     "metadata": {},
     "output_type": "execute_result"
    }
   ],
   "source": [
    "nltk.download('stopwords')"
   ]
  },
  {
   "cell_type": "code",
   "execution_count": 35,
   "metadata": {
    "id": "X9tyHFvv-q6x"
   },
   "outputs": [],
   "source": [
    "stop_words = set(stopwords.words('english'))\n",
    "stop_words.remove('not')\n",
    "def remove_stop_words(text):\n",
    "    wordsList = nltk.word_tokenize(text)\n",
    "    wordsList = [w for w in wordsList if not w in stop_words]\n",
    "    return ' '.join(wordsList)"
   ]
  },
  {
   "cell_type": "code",
   "execution_count": 36,
   "metadata": {
    "id": "PEl4xgYb-q6x"
   },
   "outputs": [],
   "source": [
    "def stem(text):\n",
    "    wordsList = nltk.word_tokenize(text)\n",
    "    stemmed_words = []\n",
    "    stemming = PorterStemmer()\n",
    "    for i in wordsList:\n",
    "        stemmed_words.append(stemming.stem(i))\n",
    "    return ' '.join(stemmed_words)"
   ]
  },
  {
   "cell_type": "code",
   "execution_count": 37,
   "metadata": {
    "id": "kz7GqYV9-q6x"
   },
   "outputs": [],
   "source": [
    "def remove_digits(data):\n",
    "    data.lower()\n",
    "    digits_clean = re.compile(r\"[0-9]\")\n",
    "    data=digits_clean.sub(r'',data)\n",
    "    return data"
   ]
  },
  {
   "cell_type": "code",
   "execution_count": 42,
   "metadata": {
    "id": "28Cgwhw3-q6x"
   },
   "outputs": [],
   "source": [
    "cleaned_df = df.copy()"
   ]
  },
  {
   "cell_type": "code",
   "execution_count": 43,
   "metadata": {
    "colab": {
     "base_uri": "https://localhost:8080/"
    },
    "id": "JWs08Tnu_OFj",
    "outputId": "89b274d9-e7d8-4529-8248-44e32e874a5e"
   },
   "outputs": [
    {
     "name": "stderr",
     "output_type": "stream",
     "text": [
      "[nltk_data] Downloading package punkt to /root/nltk_data...\n",
      "[nltk_data]   Unzipping tokenizers/punkt.zip.\n"
     ]
    },
    {
     "data": {
      "text/plain": [
       "True"
      ]
     },
     "execution_count": 43,
     "metadata": {},
     "output_type": "execute_result"
    }
   ],
   "source": [
    "nltk.download('punkt')"
   ]
  },
  {
   "cell_type": "code",
   "execution_count": 44,
   "metadata": {
    "id": "9a_RPU_Y-q6x"
   },
   "outputs": [],
   "source": [
    "cleaned_df['text'] = cleaned_df['text'].apply(remove_url)\n",
    "cleaned_df['text'] = cleaned_df['text'].apply(remove_hashtags_tags)\n",
    "cleaned_df['text'] = cleaned_df['text'].apply(remove_emoji)\n",
    "cleaned_df['text'] = cleaned_df['text'].apply(remove_punc)\n",
    "cleaned_df['text'] = cleaned_df['text'].apply(remove_stop_words)\n",
    "cleaned_df['text'] = cleaned_df['text'].apply(stem)\n",
    "cleaned_df['text'] = cleaned_df['text'].apply(remove_digits)"
   ]
  },
  {
   "cell_type": "code",
   "execution_count": 45,
   "metadata": {
    "colab": {
     "base_uri": "https://localhost:8080/",
     "height": 206
    },
    "id": "YrDzGWZs-q6y",
    "outputId": "164ca0ae-99f3-4bae-d0fc-248f903fe974"
   },
   "outputs": [
    {
     "data": {
      "text/html": [
       "\n",
       "  <div id=\"df-e7639ff6-c785-448e-a2d6-e9f753f74ace\">\n",
       "    <div class=\"colab-df-container\">\n",
       "      <div>\n",
       "<style scoped>\n",
       "    .dataframe tbody tr th:only-of-type {\n",
       "        vertical-align: middle;\n",
       "    }\n",
       "\n",
       "    .dataframe tbody tr th {\n",
       "        vertical-align: top;\n",
       "    }\n",
       "\n",
       "    .dataframe thead th {\n",
       "        text-align: right;\n",
       "    }\n",
       "</style>\n",
       "<table border=\"1\" class=\"dataframe\">\n",
       "  <thead>\n",
       "    <tr style=\"text-align: right;\">\n",
       "      <th></th>\n",
       "      <th>text</th>\n",
       "      <th>sentiment</th>\n",
       "      <th>hashtags</th>\n",
       "    </tr>\n",
       "  </thead>\n",
       "  <tbody>\n",
       "    <tr>\n",
       "      <th>0</th>\n",
       "      <td>wow yall needa step rt music snapchat damn tim...</td>\n",
       "      <td>-1</td>\n",
       "      <td>[#Note4]</td>\n",
       "    </tr>\n",
       "    <tr>\n",
       "      <th>1</th>\n",
       "      <td>what happen to appl inc</td>\n",
       "      <td>0</td>\n",
       "      <td>[#aapl, #apple]</td>\n",
       "    </tr>\n",
       "    <tr>\n",
       "      <th>2</th>\n",
       "      <td>thank u i compil pic commun one place</td>\n",
       "      <td>1</td>\n",
       "      <td>[]</td>\n",
       "    </tr>\n",
       "    <tr>\n",
       "      <th>3</th>\n",
       "      <td>the oddli uplift stori appl cofound sold stake...</td>\n",
       "      <td>0</td>\n",
       "      <td>[#aapl]</td>\n",
       "    </tr>\n",
       "    <tr>\n",
       "      <th>4</th>\n",
       "      <td>exchang iphon differ color lmao chang mind</td>\n",
       "      <td>0</td>\n",
       "      <td>[]</td>\n",
       "    </tr>\n",
       "  </tbody>\n",
       "</table>\n",
       "</div>\n",
       "      <button class=\"colab-df-convert\" onclick=\"convertToInteractive('df-e7639ff6-c785-448e-a2d6-e9f753f74ace')\"\n",
       "              title=\"Convert this dataframe to an interactive table.\"\n",
       "              style=\"display:none;\">\n",
       "        \n",
       "  <svg xmlns=\"http://www.w3.org/2000/svg\" height=\"24px\"viewBox=\"0 0 24 24\"\n",
       "       width=\"24px\">\n",
       "    <path d=\"M0 0h24v24H0V0z\" fill=\"none\"/>\n",
       "    <path d=\"M18.56 5.44l.94 2.06.94-2.06 2.06-.94-2.06-.94-.94-2.06-.94 2.06-2.06.94zm-11 1L8.5 8.5l.94-2.06 2.06-.94-2.06-.94L8.5 2.5l-.94 2.06-2.06.94zm10 10l.94 2.06.94-2.06 2.06-.94-2.06-.94-.94-2.06-.94 2.06-2.06.94z\"/><path d=\"M17.41 7.96l-1.37-1.37c-.4-.4-.92-.59-1.43-.59-.52 0-1.04.2-1.43.59L10.3 9.45l-7.72 7.72c-.78.78-.78 2.05 0 2.83L4 21.41c.39.39.9.59 1.41.59.51 0 1.02-.2 1.41-.59l7.78-7.78 2.81-2.81c.8-.78.8-2.07 0-2.86zM5.41 20L4 18.59l7.72-7.72 1.47 1.35L5.41 20z\"/>\n",
       "  </svg>\n",
       "      </button>\n",
       "      \n",
       "  <style>\n",
       "    .colab-df-container {\n",
       "      display:flex;\n",
       "      flex-wrap:wrap;\n",
       "      gap: 12px;\n",
       "    }\n",
       "\n",
       "    .colab-df-convert {\n",
       "      background-color: #E8F0FE;\n",
       "      border: none;\n",
       "      border-radius: 50%;\n",
       "      cursor: pointer;\n",
       "      display: none;\n",
       "      fill: #1967D2;\n",
       "      height: 32px;\n",
       "      padding: 0 0 0 0;\n",
       "      width: 32px;\n",
       "    }\n",
       "\n",
       "    .colab-df-convert:hover {\n",
       "      background-color: #E2EBFA;\n",
       "      box-shadow: 0px 1px 2px rgba(60, 64, 67, 0.3), 0px 1px 3px 1px rgba(60, 64, 67, 0.15);\n",
       "      fill: #174EA6;\n",
       "    }\n",
       "\n",
       "    [theme=dark] .colab-df-convert {\n",
       "      background-color: #3B4455;\n",
       "      fill: #D2E3FC;\n",
       "    }\n",
       "\n",
       "    [theme=dark] .colab-df-convert:hover {\n",
       "      background-color: #434B5C;\n",
       "      box-shadow: 0px 1px 3px 1px rgba(0, 0, 0, 0.15);\n",
       "      filter: drop-shadow(0px 1px 2px rgba(0, 0, 0, 0.3));\n",
       "      fill: #FFFFFF;\n",
       "    }\n",
       "  </style>\n",
       "\n",
       "      <script>\n",
       "        const buttonEl =\n",
       "          document.querySelector('#df-e7639ff6-c785-448e-a2d6-e9f753f74ace button.colab-df-convert');\n",
       "        buttonEl.style.display =\n",
       "          google.colab.kernel.accessAllowed ? 'block' : 'none';\n",
       "\n",
       "        async function convertToInteractive(key) {\n",
       "          const element = document.querySelector('#df-e7639ff6-c785-448e-a2d6-e9f753f74ace');\n",
       "          const dataTable =\n",
       "            await google.colab.kernel.invokeFunction('convertToInteractive',\n",
       "                                                     [key], {});\n",
       "          if (!dataTable) return;\n",
       "\n",
       "          const docLinkHtml = 'Like what you see? Visit the ' +\n",
       "            '<a target=\"_blank\" href=https://colab.research.google.com/notebooks/data_table.ipynb>data table notebook</a>'\n",
       "            + ' to learn more about interactive tables.';\n",
       "          element.innerHTML = '';\n",
       "          dataTable['output_type'] = 'display_data';\n",
       "          await google.colab.output.renderOutput(dataTable, element);\n",
       "          const docLink = document.createElement('div');\n",
       "          docLink.innerHTML = docLinkHtml;\n",
       "          element.appendChild(docLink);\n",
       "        }\n",
       "      </script>\n",
       "    </div>\n",
       "  </div>\n",
       "  "
      ],
      "text/plain": [
       "                                                text  sentiment  \\\n",
       "0  wow yall needa step rt music snapchat damn tim...         -1   \n",
       "1                            what happen to appl inc          0   \n",
       "2              thank u i compil pic commun one place          1   \n",
       "3  the oddli uplift stori appl cofound sold stake...          0   \n",
       "4         exchang iphon differ color lmao chang mind          0   \n",
       "\n",
       "          hashtags  \n",
       "0         [#Note4]  \n",
       "1  [#aapl, #apple]  \n",
       "2               []  \n",
       "3          [#aapl]  \n",
       "4               []  "
      ]
     },
     "execution_count": 45,
     "metadata": {},
     "output_type": "execute_result"
    }
   ],
   "source": [
    "cleaned_df.head()"
   ]
  },
  {
   "cell_type": "code",
   "execution_count": 46,
   "metadata": {
    "colab": {
     "base_uri": "https://localhost:8080/",
     "height": 206
    },
    "id": "2-ILZqYg-q6y",
    "outputId": "5a01df59-9f6f-405a-c8ec-73fc3decd1dd",
    "scrolled": true
   },
   "outputs": [
    {
     "data": {
      "text/html": [
       "\n",
       "  <div id=\"df-bb33883b-38ec-4f08-a72e-889932e46c16\">\n",
       "    <div class=\"colab-df-container\">\n",
       "      <div>\n",
       "<style scoped>\n",
       "    .dataframe tbody tr th:only-of-type {\n",
       "        vertical-align: middle;\n",
       "    }\n",
       "\n",
       "    .dataframe tbody tr th {\n",
       "        vertical-align: top;\n",
       "    }\n",
       "\n",
       "    .dataframe thead th {\n",
       "        text-align: right;\n",
       "    }\n",
       "</style>\n",
       "<table border=\"1\" class=\"dataframe\">\n",
       "  <thead>\n",
       "    <tr style=\"text-align: right;\">\n",
       "      <th></th>\n",
       "      <th>text</th>\n",
       "      <th>sentiment</th>\n",
       "      <th>hashtags</th>\n",
       "    </tr>\n",
       "  </thead>\n",
       "  <tbody>\n",
       "    <tr>\n",
       "      <th>0</th>\n",
       "      <td>Wow. Yall needa step it up @Apple RT @heynyla:...</td>\n",
       "      <td>-1</td>\n",
       "      <td>[#Note4]</td>\n",
       "    </tr>\n",
       "    <tr>\n",
       "      <th>1</th>\n",
       "      <td>What Happened To Apple Inc?   http://t.co/FJEX...</td>\n",
       "      <td>0</td>\n",
       "      <td>[#aapl, #apple]</td>\n",
       "    </tr>\n",
       "    <tr>\n",
       "      <th>2</th>\n",
       "      <td>Thank u @apple I can now compile all of the pi...</td>\n",
       "      <td>1</td>\n",
       "      <td>[]</td>\n",
       "    </tr>\n",
       "    <tr>\n",
       "      <th>3</th>\n",
       "      <td>The oddly uplifting story of the Apple co-foun...</td>\n",
       "      <td>0</td>\n",
       "      <td>[#aapl]</td>\n",
       "    </tr>\n",
       "    <tr>\n",
       "      <th>4</th>\n",
       "      <td>@apple can i exchange my iphone for a differen...</td>\n",
       "      <td>0</td>\n",
       "      <td>[]</td>\n",
       "    </tr>\n",
       "  </tbody>\n",
       "</table>\n",
       "</div>\n",
       "      <button class=\"colab-df-convert\" onclick=\"convertToInteractive('df-bb33883b-38ec-4f08-a72e-889932e46c16')\"\n",
       "              title=\"Convert this dataframe to an interactive table.\"\n",
       "              style=\"display:none;\">\n",
       "        \n",
       "  <svg xmlns=\"http://www.w3.org/2000/svg\" height=\"24px\"viewBox=\"0 0 24 24\"\n",
       "       width=\"24px\">\n",
       "    <path d=\"M0 0h24v24H0V0z\" fill=\"none\"/>\n",
       "    <path d=\"M18.56 5.44l.94 2.06.94-2.06 2.06-.94-2.06-.94-.94-2.06-.94 2.06-2.06.94zm-11 1L8.5 8.5l.94-2.06 2.06-.94-2.06-.94L8.5 2.5l-.94 2.06-2.06.94zm10 10l.94 2.06.94-2.06 2.06-.94-2.06-.94-.94-2.06-.94 2.06-2.06.94z\"/><path d=\"M17.41 7.96l-1.37-1.37c-.4-.4-.92-.59-1.43-.59-.52 0-1.04.2-1.43.59L10.3 9.45l-7.72 7.72c-.78.78-.78 2.05 0 2.83L4 21.41c.39.39.9.59 1.41.59.51 0 1.02-.2 1.41-.59l7.78-7.78 2.81-2.81c.8-.78.8-2.07 0-2.86zM5.41 20L4 18.59l7.72-7.72 1.47 1.35L5.41 20z\"/>\n",
       "  </svg>\n",
       "      </button>\n",
       "      \n",
       "  <style>\n",
       "    .colab-df-container {\n",
       "      display:flex;\n",
       "      flex-wrap:wrap;\n",
       "      gap: 12px;\n",
       "    }\n",
       "\n",
       "    .colab-df-convert {\n",
       "      background-color: #E8F0FE;\n",
       "      border: none;\n",
       "      border-radius: 50%;\n",
       "      cursor: pointer;\n",
       "      display: none;\n",
       "      fill: #1967D2;\n",
       "      height: 32px;\n",
       "      padding: 0 0 0 0;\n",
       "      width: 32px;\n",
       "    }\n",
       "\n",
       "    .colab-df-convert:hover {\n",
       "      background-color: #E2EBFA;\n",
       "      box-shadow: 0px 1px 2px rgba(60, 64, 67, 0.3), 0px 1px 3px 1px rgba(60, 64, 67, 0.15);\n",
       "      fill: #174EA6;\n",
       "    }\n",
       "\n",
       "    [theme=dark] .colab-df-convert {\n",
       "      background-color: #3B4455;\n",
       "      fill: #D2E3FC;\n",
       "    }\n",
       "\n",
       "    [theme=dark] .colab-df-convert:hover {\n",
       "      background-color: #434B5C;\n",
       "      box-shadow: 0px 1px 3px 1px rgba(0, 0, 0, 0.15);\n",
       "      filter: drop-shadow(0px 1px 2px rgba(0, 0, 0, 0.3));\n",
       "      fill: #FFFFFF;\n",
       "    }\n",
       "  </style>\n",
       "\n",
       "      <script>\n",
       "        const buttonEl =\n",
       "          document.querySelector('#df-bb33883b-38ec-4f08-a72e-889932e46c16 button.colab-df-convert');\n",
       "        buttonEl.style.display =\n",
       "          google.colab.kernel.accessAllowed ? 'block' : 'none';\n",
       "\n",
       "        async function convertToInteractive(key) {\n",
       "          const element = document.querySelector('#df-bb33883b-38ec-4f08-a72e-889932e46c16');\n",
       "          const dataTable =\n",
       "            await google.colab.kernel.invokeFunction('convertToInteractive',\n",
       "                                                     [key], {});\n",
       "          if (!dataTable) return;\n",
       "\n",
       "          const docLinkHtml = 'Like what you see? Visit the ' +\n",
       "            '<a target=\"_blank\" href=https://colab.research.google.com/notebooks/data_table.ipynb>data table notebook</a>'\n",
       "            + ' to learn more about interactive tables.';\n",
       "          element.innerHTML = '';\n",
       "          dataTable['output_type'] = 'display_data';\n",
       "          await google.colab.output.renderOutput(dataTable, element);\n",
       "          const docLink = document.createElement('div');\n",
       "          docLink.innerHTML = docLinkHtml;\n",
       "          element.appendChild(docLink);\n",
       "        }\n",
       "      </script>\n",
       "    </div>\n",
       "  </div>\n",
       "  "
      ],
      "text/plain": [
       "                                                text  sentiment  \\\n",
       "0  Wow. Yall needa step it up @Apple RT @heynyla:...         -1   \n",
       "1  What Happened To Apple Inc?   http://t.co/FJEX...          0   \n",
       "2  Thank u @apple I can now compile all of the pi...          1   \n",
       "3  The oddly uplifting story of the Apple co-foun...          0   \n",
       "4  @apple can i exchange my iphone for a differen...          0   \n",
       "\n",
       "          hashtags  \n",
       "0         [#Note4]  \n",
       "1  [#aapl, #apple]  \n",
       "2               []  \n",
       "3          [#aapl]  \n",
       "4               []  "
      ]
     },
     "execution_count": 46,
     "metadata": {},
     "output_type": "execute_result"
    }
   ],
   "source": [
    "df.head()"
   ]
  },
  {
   "cell_type": "code",
   "execution_count": 47,
   "metadata": {
    "id": "dwKDz1FU-q6z"
   },
   "outputs": [],
   "source": [
    "def output(out):\n",
    "    if out == -1:\n",
    "        return 0\n",
    "    elif out == 0:\n",
    "        return 1\n",
    "    elif out == 1:\n",
    "        return 2\n",
    "    \n",
    "# now the negativ will be 0, nutral is 1, positive is 2\n",
    "\n",
    "cleaned_df['sentiment'] = cleaned_df['sentiment'].apply(output)"
   ]
  },
  {
   "cell_type": "code",
   "execution_count": 48,
   "metadata": {
    "colab": {
     "base_uri": "https://localhost:8080/",
     "height": 206
    },
    "id": "h4i6VDGt-q6z",
    "outputId": "895922e7-7a43-48f5-f8e7-104957ca8fd9"
   },
   "outputs": [
    {
     "data": {
      "text/html": [
       "\n",
       "  <div id=\"df-abb5cfe8-dfde-4cbb-9e9d-fa7f2eaba203\">\n",
       "    <div class=\"colab-df-container\">\n",
       "      <div>\n",
       "<style scoped>\n",
       "    .dataframe tbody tr th:only-of-type {\n",
       "        vertical-align: middle;\n",
       "    }\n",
       "\n",
       "    .dataframe tbody tr th {\n",
       "        vertical-align: top;\n",
       "    }\n",
       "\n",
       "    .dataframe thead th {\n",
       "        text-align: right;\n",
       "    }\n",
       "</style>\n",
       "<table border=\"1\" class=\"dataframe\">\n",
       "  <thead>\n",
       "    <tr style=\"text-align: right;\">\n",
       "      <th></th>\n",
       "      <th>text</th>\n",
       "      <th>sentiment</th>\n",
       "      <th>hashtags</th>\n",
       "    </tr>\n",
       "  </thead>\n",
       "  <tbody>\n",
       "    <tr>\n",
       "      <th>0</th>\n",
       "      <td>wow yall needa step rt music snapchat damn tim...</td>\n",
       "      <td>0</td>\n",
       "      <td>[#Note4]</td>\n",
       "    </tr>\n",
       "    <tr>\n",
       "      <th>1</th>\n",
       "      <td>what happen to appl inc</td>\n",
       "      <td>1</td>\n",
       "      <td>[#aapl, #apple]</td>\n",
       "    </tr>\n",
       "    <tr>\n",
       "      <th>2</th>\n",
       "      <td>thank u i compil pic commun one place</td>\n",
       "      <td>2</td>\n",
       "      <td>[]</td>\n",
       "    </tr>\n",
       "    <tr>\n",
       "      <th>3</th>\n",
       "      <td>the oddli uplift stori appl cofound sold stake...</td>\n",
       "      <td>1</td>\n",
       "      <td>[#aapl]</td>\n",
       "    </tr>\n",
       "    <tr>\n",
       "      <th>4</th>\n",
       "      <td>exchang iphon differ color lmao chang mind</td>\n",
       "      <td>1</td>\n",
       "      <td>[]</td>\n",
       "    </tr>\n",
       "  </tbody>\n",
       "</table>\n",
       "</div>\n",
       "      <button class=\"colab-df-convert\" onclick=\"convertToInteractive('df-abb5cfe8-dfde-4cbb-9e9d-fa7f2eaba203')\"\n",
       "              title=\"Convert this dataframe to an interactive table.\"\n",
       "              style=\"display:none;\">\n",
       "        \n",
       "  <svg xmlns=\"http://www.w3.org/2000/svg\" height=\"24px\"viewBox=\"0 0 24 24\"\n",
       "       width=\"24px\">\n",
       "    <path d=\"M0 0h24v24H0V0z\" fill=\"none\"/>\n",
       "    <path d=\"M18.56 5.44l.94 2.06.94-2.06 2.06-.94-2.06-.94-.94-2.06-.94 2.06-2.06.94zm-11 1L8.5 8.5l.94-2.06 2.06-.94-2.06-.94L8.5 2.5l-.94 2.06-2.06.94zm10 10l.94 2.06.94-2.06 2.06-.94-2.06-.94-.94-2.06-.94 2.06-2.06.94z\"/><path d=\"M17.41 7.96l-1.37-1.37c-.4-.4-.92-.59-1.43-.59-.52 0-1.04.2-1.43.59L10.3 9.45l-7.72 7.72c-.78.78-.78 2.05 0 2.83L4 21.41c.39.39.9.59 1.41.59.51 0 1.02-.2 1.41-.59l7.78-7.78 2.81-2.81c.8-.78.8-2.07 0-2.86zM5.41 20L4 18.59l7.72-7.72 1.47 1.35L5.41 20z\"/>\n",
       "  </svg>\n",
       "      </button>\n",
       "      \n",
       "  <style>\n",
       "    .colab-df-container {\n",
       "      display:flex;\n",
       "      flex-wrap:wrap;\n",
       "      gap: 12px;\n",
       "    }\n",
       "\n",
       "    .colab-df-convert {\n",
       "      background-color: #E8F0FE;\n",
       "      border: none;\n",
       "      border-radius: 50%;\n",
       "      cursor: pointer;\n",
       "      display: none;\n",
       "      fill: #1967D2;\n",
       "      height: 32px;\n",
       "      padding: 0 0 0 0;\n",
       "      width: 32px;\n",
       "    }\n",
       "\n",
       "    .colab-df-convert:hover {\n",
       "      background-color: #E2EBFA;\n",
       "      box-shadow: 0px 1px 2px rgba(60, 64, 67, 0.3), 0px 1px 3px 1px rgba(60, 64, 67, 0.15);\n",
       "      fill: #174EA6;\n",
       "    }\n",
       "\n",
       "    [theme=dark] .colab-df-convert {\n",
       "      background-color: #3B4455;\n",
       "      fill: #D2E3FC;\n",
       "    }\n",
       "\n",
       "    [theme=dark] .colab-df-convert:hover {\n",
       "      background-color: #434B5C;\n",
       "      box-shadow: 0px 1px 3px 1px rgba(0, 0, 0, 0.15);\n",
       "      filter: drop-shadow(0px 1px 2px rgba(0, 0, 0, 0.3));\n",
       "      fill: #FFFFFF;\n",
       "    }\n",
       "  </style>\n",
       "\n",
       "      <script>\n",
       "        const buttonEl =\n",
       "          document.querySelector('#df-abb5cfe8-dfde-4cbb-9e9d-fa7f2eaba203 button.colab-df-convert');\n",
       "        buttonEl.style.display =\n",
       "          google.colab.kernel.accessAllowed ? 'block' : 'none';\n",
       "\n",
       "        async function convertToInteractive(key) {\n",
       "          const element = document.querySelector('#df-abb5cfe8-dfde-4cbb-9e9d-fa7f2eaba203');\n",
       "          const dataTable =\n",
       "            await google.colab.kernel.invokeFunction('convertToInteractive',\n",
       "                                                     [key], {});\n",
       "          if (!dataTable) return;\n",
       "\n",
       "          const docLinkHtml = 'Like what you see? Visit the ' +\n",
       "            '<a target=\"_blank\" href=https://colab.research.google.com/notebooks/data_table.ipynb>data table notebook</a>'\n",
       "            + ' to learn more about interactive tables.';\n",
       "          element.innerHTML = '';\n",
       "          dataTable['output_type'] = 'display_data';\n",
       "          await google.colab.output.renderOutput(dataTable, element);\n",
       "          const docLink = document.createElement('div');\n",
       "          docLink.innerHTML = docLinkHtml;\n",
       "          element.appendChild(docLink);\n",
       "        }\n",
       "      </script>\n",
       "    </div>\n",
       "  </div>\n",
       "  "
      ],
      "text/plain": [
       "                                                text  sentiment  \\\n",
       "0  wow yall needa step rt music snapchat damn tim...          0   \n",
       "1                            what happen to appl inc          1   \n",
       "2              thank u i compil pic commun one place          2   \n",
       "3  the oddli uplift stori appl cofound sold stake...          1   \n",
       "4         exchang iphon differ color lmao chang mind          1   \n",
       "\n",
       "          hashtags  \n",
       "0         [#Note4]  \n",
       "1  [#aapl, #apple]  \n",
       "2               []  \n",
       "3          [#aapl]  \n",
       "4               []  "
      ]
     },
     "execution_count": 48,
     "metadata": {},
     "output_type": "execute_result"
    }
   ],
   "source": [
    "cleaned_df.head()"
   ]
  },
  {
   "cell_type": "markdown",
   "metadata": {
    "id": "McX1ke3K-q6z"
   },
   "source": [
    "## 4. Feature Extraction"
   ]
  },
  {
   "cell_type": "code",
   "execution_count": 49,
   "metadata": {
    "id": "sVUfxQL9-q6z"
   },
   "outputs": [],
   "source": [
    "from sklearn.feature_extraction.text import TfidfVectorizer\n",
    "from sklearn.model_selection import train_test_split"
   ]
  },
  {
   "cell_type": "code",
   "execution_count": 50,
   "metadata": {
    "id": "n-YhuKZV-q6z"
   },
   "outputs": [],
   "source": [
    "x = cleaned_df['text']\n",
    "y = cleaned_df['sentiment']"
   ]
  },
  {
   "cell_type": "code",
   "execution_count": 51,
   "metadata": {
    "id": "U-WQFwF9-q62"
   },
   "outputs": [],
   "source": [
    "x_train,x_test, y_train, y_test = train_test_split(x, y , stratify=y, test_size=0.2, random_state=1)"
   ]
  },
  {
   "cell_type": "code",
   "execution_count": 52,
   "metadata": {
    "id": "yDC_1S0p-q63"
   },
   "outputs": [],
   "source": [
    "tfidf = TfidfVectorizer()\n",
    "x_train = tfidf.fit_transform(x_train)\n",
    "x_test = tfidf.transform(x_test)"
   ]
  },
  {
   "cell_type": "markdown",
   "metadata": {
    "id": "fWUvcD7n-q63"
   },
   "source": [
    "## 5. Building ML models"
   ]
  },
  {
   "cell_type": "markdown",
   "metadata": {
    "id": "UtuOtyGC-q63"
   },
   "source": [
    "### 5.1 Machine learning models"
   ]
  },
  {
   "cell_type": "code",
   "execution_count": 53,
   "metadata": {
    "id": "DhXJbEqH-q63"
   },
   "outputs": [],
   "source": [
    "from sklearn.svm import SVC\n",
    "from sklearn.ensemble import RandomForestClassifier\n",
    "from sklearn.metrics import confusion_matrix, accuracy_score, precision_score, recall_score, f1_score"
   ]
  },
  {
   "cell_type": "code",
   "execution_count": 54,
   "metadata": {
    "id": "XOuAFm8o-q63"
   },
   "outputs": [],
   "source": [
    "def classification_report(model,x_test,y_test,model_name):\n",
    "    y_pred = model.predict(x_test)\n",
    "    \n",
    "    print(f'----------- {model_name} -------------')\n",
    "    print('accuracy_score:',accuracy_score(y_test,y_pred))\n",
    "    print('Recall:',recall_score(y_test,y_pred, average='weighted'))\n",
    "    print('precision_score:',precision_score(y_test,y_pred, average='weighted'))\n",
    "    print('f1_score:',f1_score(y_test,y_pred, average='weighted'))\n",
    "     \n",
    "    fig , ax= plt.subplots()\n",
    "    cm = confusion_matrix(y_test,y_pred)\n",
    "    sns.set()\n",
    "    sns.heatmap(cm, annot=True, fmt='g', ax=ax,cmap='Blues')"
   ]
  },
  {
   "cell_type": "code",
   "execution_count": 55,
   "metadata": {
    "colab": {
     "base_uri": "https://localhost:8080/"
    },
    "id": "krdyahhY-q64",
    "outputId": "f695a1ad-762c-4170-9ed2-70e0640793a6"
   },
   "outputs": [
    {
     "data": {
      "text/plain": [
       "SVC()"
      ]
     },
     "execution_count": 55,
     "metadata": {},
     "output_type": "execute_result"
    }
   ],
   "source": [
    "svm = SVC()\n",
    "svm.fit(x_train, y_train)"
   ]
  },
  {
   "cell_type": "code",
   "execution_count": 56,
   "metadata": {
    "colab": {
     "base_uri": "https://localhost:8080/"
    },
    "id": "mdd3OUtf-q64",
    "outputId": "bfe69e3e-2254-495f-fc71-e644c69bb468"
   },
   "outputs": [
    {
     "data": {
      "text/plain": [
       "RandomForestClassifier()"
      ]
     },
     "execution_count": 56,
     "metadata": {},
     "output_type": "execute_result"
    }
   ],
   "source": [
    "random_forest = RandomForestClassifier()\n",
    "random_forest.fit(x_train, y_train)"
   ]
  },
  {
   "cell_type": "code",
   "execution_count": 57,
   "metadata": {
    "colab": {
     "base_uri": "https://localhost:8080/",
     "height": 352
    },
    "id": "pgc_9KOG-q64",
    "outputId": "f47bfdea-669a-456a-c0db-9977b8a2ce9d"
   },
   "outputs": [
    {
     "name": "stdout",
     "output_type": "stream",
     "text": [
      "----------- Support Vector Machine -------------\n",
      "accuracy_score: 0.8312883435582822\n",
      "Recall: 0.8312883435582822\n",
      "precision_score: 0.8450250429229138\n",
      "f1_score: 0.814812484619892\n"
     ]
    },
    {
     "data": {
      "image/png": "[encoded data removed]",
      "text/plain": [
       "<Figure size 432x288 with 2 Axes>"
      ]
     },
     "metadata": {
      "needs_background": "light"
     },
     "output_type": "display_data"
    }
   ],
   "source": [
    "classification_report(svm, x_test, y_test, 'Support Vector Machine')"
   ]
  },
  {
   "cell_type": "code",
   "execution_count": 58,
   "metadata": {
    "colab": {
     "base_uri": "https://localhost:8080/",
     "height": 355
    },
    "id": "lyvraEtd-q64",
    "outputId": "8df6f17b-d097-4551-e82a-f4322a5c0708"
   },
   "outputs": [
    {
     "name": "stdout",
     "output_type": "stream",
     "text": [
      "----------- Random Forest -------------\n",
      "accuracy_score: 0.8006134969325154\n",
      "Recall: 0.8006134969325154\n",
      "precision_score: 0.8176956763124464\n",
      "f1_score: 0.7930691712170695\n"
     ]
    },
    {
     "data": {
      "image/png": "[encoded data removed]",
      "text/plain": [
       "<Figure size 432x288 with 2 Axes>"
      ]
     },
     "metadata": {},
     "output_type": "display_data"
    }
   ],
   "source": [
    "classification_report(random_forest, x_test, y_test, 'Random Forest')"
   ]
  },
  {
   "cell_type": "markdown",
   "metadata": {
    "id": "ICeICcml-q64"
   },
   "source": [
    "## 5.2 Deep learning model"
   ]
  },
  {
   "cell_type": "code",
   "execution_count": 59,
   "metadata": {
    "id": "1EUvUIP6-q64"
   },
   "outputs": [],
   "source": [
    "import tensorflow as tf\n",
    "\n",
    "from tensorflow.keras.preprocessing.text import Tokenizer\n",
    "from tensorflow.keras.preprocessing.sequence import pad_sequences\n",
    "from tensorflow.keras.layers import Embedding, Flatten, LSTM, Dense, Dropout, BatchNormalization\n",
    "from tensorflow.keras.models import Sequential"
   ]
  },
  {
   "cell_type": "code",
   "execution_count": 60,
   "metadata": {
    "id": "02o8yYzK-q65"
   },
   "outputs": [],
   "source": [
    "x = cleaned_df['text']\n",
    "y = cleaned_df['sentiment']"
   ]
  },
  {
   "cell_type": "code",
   "execution_count": 61,
   "metadata": {
    "id": "DLaoGnm_-q65"
   },
   "outputs": [],
   "source": [
    "x_train,x_test, y_train, y_test = train_test_split(x, y , stratify=y, test_size=0.2, random_state=1)"
   ]
  },
  {
   "cell_type": "code",
   "execution_count": 62,
   "metadata": {
    "colab": {
     "base_uri": "https://localhost:8080/"
    },
    "id": "70LLNbF5-q65",
    "outputId": "3d5c9785-d25b-4ecc-a09f-4f0869ae0aba"
   },
   "outputs": [
    {
     "data": {
      "text/plain": [
       "28"
      ]
     },
     "execution_count": 62,
     "metadata": {},
     "output_type": "execute_result"
    }
   ],
   "source": [
    "def calculate_length(x):\n",
    "    return(len(x.split()))\n",
    "\n",
    "cleaned_df['length'] = cleaned_df['text'].apply(calculate_length)\n",
    "max_length = cleaned_df.length.max()\n",
    "max_length"
   ]
  },
  {
   "cell_type": "code",
   "execution_count": 63,
   "metadata": {
    "colab": {
     "base_uri": "https://localhost:8080/"
    },
    "id": "onT8mCOF-q65",
    "outputId": "443e6afb-edb9-469f-e5a4-3c378ed5f419"
   },
   "outputs": [
    {
     "data": {
      "text/plain": [
       "2808"
      ]
     },
     "execution_count": 63,
     "metadata": {},
     "output_type": "execute_result"
    }
   ],
   "source": [
    "tokenizer = Tokenizer()\n",
    "tokenizer.fit_on_texts(cleaned_df['text'])\n",
    "vocab_size = len(tokenizer.word_index)+1\n",
    "vocab_size"
   ]
  },
  {
   "cell_type": "code",
   "execution_count": 64,
   "metadata": {
    "id": "rg6uCSvB-q65"
   },
   "outputs": [],
   "source": [
    "x_train_seq = tokenizer.texts_to_sequences(x_train)\n",
    "x_test_seq = tokenizer.texts_to_sequences(x_test)"
   ]
  },
  {
   "cell_type": "code",
   "execution_count": 65,
   "metadata": {
    "id": "eXCLP8Mk-q65"
   },
   "outputs": [],
   "source": [
    "x_train_seq = pad_sequences(x_train_seq, maxlen=max_length)\n",
    "x_test_seq = pad_sequences(x_test_seq, maxlen=max_length)"
   ]
  },
  {
   "cell_type": "code",
   "execution_count": 66,
   "metadata": {
    "id": "QdQtt_wr-q65"
   },
   "outputs": [],
   "source": [
    "output_dim = 30\n",
    "\n",
    "model = Sequential()\n",
    "model.add(Embedding(vocab_size, output_dim=output_dim, input_length=max_length))\n",
    "model.add(LSTM(128, return_sequences=True))\n",
    "model.add(BatchNormalization())\n",
    "model.add(Dropout(0.5))\n",
    "model.add(LSTM(64))\n",
    "model.add(Dense(3, activation='softmax'))"
   ]
  },
  {
   "cell_type": "code",
   "execution_count": 67,
   "metadata": {
    "colab": {
     "base_uri": "https://localhost:8080/"
    },
    "id": "2-W7N4Xh-q65",
    "outputId": "f76d431f-f0d9-45e5-dc6d-c1d14aefecf9"
   },
   "outputs": [
    {
     "name": "stdout",
     "output_type": "stream",
     "text": [
      "Model: \"sequential\"\n",
      "_________________________________________________________________\n",
      " Layer (type)                Output Shape              Param #   \n",
      "=================================================================\n",
      " embedding (Embedding)       (None, 28, 30)            84240     \n",
      "                                                                 \n",
      " lstm (LSTM)                 (None, 28, 128)           81408     \n",
      "                                                                 \n",
      " batch_normalization (BatchN  (None, 28, 128)          512       \n",
      " ormalization)                                                   \n",
      "                                                                 \n",
      " dropout (Dropout)           (None, 28, 128)           0         \n",
      "                                                                 \n",
      " lstm_1 (LSTM)               (None, 64)                49408     \n",
      "                                                                 \n",
      " dense (Dense)               (None, 3)                 195       \n",
      "                                                                 \n",
      "=================================================================\n",
      "Total params: 215,763\n",
      "Trainable params: 215,507\n",
      "Non-trainable params: 256\n",
      "_________________________________________________________________\n"
     ]
    }
   ],
   "source": [
    "model.summary()"
   ]
  },
  {
   "cell_type": "code",
   "execution_count": 68,
   "metadata": {
    "id": "5uwrDYct-q65"
   },
   "outputs": [],
   "source": [
    "model.compile(optimizer='adam', loss='sparse_categorical_crossentropy', metrics=['accuracy'])"
   ]
  },
  {
   "cell_type": "code",
   "execution_count": 69,
   "metadata": {
    "colab": {
     "base_uri": "https://localhost:8080/"
    },
    "id": "gRqt_xm8-q66",
    "outputId": "dda95ec0-a765-4e0b-dd19-b79ff63ef5ef",
    "scrolled": false
   },
   "outputs": [
    {
     "name": "stdout",
     "output_type": "stream",
     "text": [
      "Epoch 1/10\n",
      "82/82 [==============================] - 11s 63ms/step - loss: 0.7755 - accuracy: 0.6641\n",
      "Epoch 2/10\n",
      "82/82 [==============================] - 6s 73ms/step - loss: 0.3593 - accuracy: 0.8620\n",
      "Epoch 3/10\n",
      "82/82 [==============================] - 4s 52ms/step - loss: 0.1366 - accuracy: 0.9563\n",
      "Epoch 4/10\n",
      "82/82 [==============================] - 4s 50ms/step - loss: 0.0613 - accuracy: 0.9824\n",
      "Epoch 5/10\n",
      "82/82 [==============================] - 5s 64ms/step - loss: 0.0357 - accuracy: 0.9954\n",
      "Epoch 6/10\n",
      "82/82 [==============================] - 4s 53ms/step - loss: 0.0274 - accuracy: 0.9946\n",
      "Epoch 7/10\n",
      "82/82 [==============================] - 4s 51ms/step - loss: 0.0324 - accuracy: 0.9923\n",
      "Epoch 8/10\n",
      "82/82 [==============================] - 5s 63ms/step - loss: 0.0229 - accuracy: 0.9939\n",
      "Epoch 9/10\n",
      "82/82 [==============================] - 4s 49ms/step - loss: 0.0258 - accuracy: 0.9946\n",
      "Epoch 10/10\n",
      "82/82 [==============================] - 4s 49ms/step - loss: 0.0164 - accuracy: 0.9962\n"
     ]
    },
    {
     "data": {
      "text/plain": [
       "<keras.callbacks.History at 0x7f3fe43c9490>"
      ]
     },
     "execution_count": 69,
     "metadata": {},
     "output_type": "execute_result"
    }
   ],
   "source": [
    "model.fit(x_train_seq, y_train, epochs=10, batch_size=16, shuffle=False)"
   ]
  },
  {
   "cell_type": "code",
   "execution_count": 70,
   "metadata": {
    "id": "SnajCrtW-q66"
   },
   "outputs": [],
   "source": [
    "def classification_report_deep_learning(model,x_test,y_test,model_name):\n",
    "    y_pred = model.predict(x_test)\n",
    "    y_pred = np.argmax(y_pred, axis=1)\n",
    "    \n",
    "    print(f'----------- {model_name} -------------')\n",
    "    print('accuracy_score:',accuracy_score(y_test,y_pred))\n",
    "    print('Recall:',recall_score(y_test,y_pred, average='weighted'))\n",
    "    print('precision_score:',precision_score(y_test,y_pred, average='weighted'))\n",
    "    print('f1_score:',f1_score(y_test,y_pred, average='weighted'))\n",
    "     \n",
    "    fig , ax= plt.subplots()\n",
    "    cm = confusion_matrix(y_test,y_pred)\n",
    "    sns.set()\n",
    "    sns.heatmap(cm, annot=True, fmt='g', ax=ax,cmap='Blues')"
   ]
  },
  {
   "cell_type": "code",
   "execution_count": 71,
   "metadata": {
    "colab": {
     "base_uri": "https://localhost:8080/",
     "height": 372
    },
    "id": "O8c-wd4E-q66",
    "outputId": "ada251c5-7ef9-4baf-c71d-76b1b7573c3b"
   },
   "outputs": [
    {
     "name": "stdout",
     "output_type": "stream",
     "text": [
      "11/11 [==============================] - 1s 21ms/step\n",
      "----------- Long short term memory -------------\n",
      "accuracy_score: 0.7760736196319018\n",
      "Recall: 0.7760736196319018\n",
      "precision_score: 0.7955517625434706\n",
      "f1_score: 0.7827650454209393\n"
     ]
    },
    {
     "data": {
      "image/png": "[encoded data removed]",
      "text/plain": [
       "<Figure size 432x288 with 2 Axes>"
      ]
     },
     "metadata": {},
     "output_type": "display_data"
    }
   ],
   "source": [
    "classification_report_deep_learning(model, x_test_seq, y_test, 'Long short term memory')"
   ]
  }
 ],
 "metadata": {
  "colab": {
   "provenance": []
  },
  "kernelspec": {
   "display_name": "Python 3 (ipykernel)",
   "language": "python",
   "name": "python3"
  },
  "language_info": {
   "codemirror_mode": {
    "name": "ipython",
    "version": 3
   },
   "file_extension": ".py",
   "mimetype": "text/x-python",
   "name": "python",
   "nbconvert_exporter": "python",
   "pygments_lexer": "ipython3",
   "version": "3.8.3"
  }
 },
 "nbformat": 4,
 "nbformat_minor": 5
}
